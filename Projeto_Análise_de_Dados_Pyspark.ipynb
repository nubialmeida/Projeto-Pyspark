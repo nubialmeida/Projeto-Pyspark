{
  "nbformat": 4,
  "nbformat_minor": 0,
  "metadata": {
    "colab": {
      "provenance": [],
      "include_colab_link": true
    },
    "kernelspec": {
      "name": "python3",
      "display_name": "Python 3"
    },
    "language_info": {
      "name": "python"
    }
  },
  "cells": [
    {
      "cell_type": "markdown",
      "metadata": {
        "id": "view-in-github",
        "colab_type": "text"
      },
      "source": [
        "<a href=\"https://colab.research.google.com/github/nubialmeida/Projeto-pyspark/blob/main/Projeto_An%C3%A1lise_de_Dados_Pyspark.ipynb\" target=\"_parent\"><img src=\"https://colab.research.google.com/assets/colab-badge.svg\" alt=\"Open In Colab\"/></a>"
      ]
    },
    {
      "cell_type": "markdown",
      "source": [
        "##Instalação da lib"
      ],
      "metadata": {
        "id": "iAlak_XEIuwq"
      }
    },
    {
      "cell_type": "code",
      "execution_count": 2,
      "metadata": {
        "colab": {
          "base_uri": "https://localhost:8080/"
        },
        "id": "Pj-o1evpiJ_k",
        "outputId": "4b96a11d-f77d-4c73-be67-ef761170e127"
      },
      "outputs": [
        {
          "output_type": "stream",
          "name": "stdout",
          "text": [
            "Looking in indexes: https://pypi.org/simple, https://us-python.pkg.dev/colab-wheels/public/simple/\n",
            "Requirement already satisfied: pyspark in /usr/local/lib/python3.9/dist-packages (3.4.0)\n",
            "Requirement already satisfied: py4j==0.10.9.7 in /usr/local/lib/python3.9/dist-packages (from pyspark) (0.10.9.7)\n"
          ]
        }
      ],
      "source": [
        "!pip install pyspark"
      ]
    },
    {
      "cell_type": "markdown",
      "source": [
        "##Declaração das libs"
      ],
      "metadata": {
        "id": "DVfXD4P8IqbO"
      }
    },
    {
      "cell_type": "code",
      "source": [
        "from pyspark.sql import SparkSession\n",
        "import pyspark.sql.functions as F\n",
        "import pandas as pd\n",
        "import numpy as np\n",
        "import matplotlib.pyplot as plt"
      ],
      "metadata": {
        "id": "OgWLVoiqlbzO"
      },
      "execution_count": 3,
      "outputs": []
    },
    {
      "cell_type": "markdown",
      "source": [
        "##Montando drive"
      ],
      "metadata": {
        "id": "2OQTvi18I3Gy"
      }
    },
    {
      "cell_type": "code",
      "source": [
        "from google.colab import drive\n",
        "drive.mount('/content/drive')"
      ],
      "metadata": {
        "colab": {
          "base_uri": "https://localhost:8080/"
        },
        "id": "y5kzpal-mGJR",
        "outputId": "ffcaa565-17d7-49c4-db4a-b28067d2e368"
      },
      "execution_count": 1,
      "outputs": [
        {
          "output_type": "stream",
          "name": "stdout",
          "text": [
            "Drive already mounted at /content/drive; to attempt to forcibly remount, call drive.mount(\"/content/drive\", force_remount=True).\n"
          ]
        }
      ]
    },
    {
      "cell_type": "markdown",
      "source": [
        "##Configuração da sessão Spark"
      ],
      "metadata": {
        "id": "jJmxGwuOImu4"
      }
    },
    {
      "cell_type": "code",
      "source": [
        "\n",
        "spark = (SparkSession.builder\n",
        "                     .master('local')\n",
        "                     .appName('Analise_MBA')\n",
        "                     .config('spark.ui.port', '4050')\n",
        "                     .getOrCreate())"
      ],
      "metadata": {
        "id": "4lUQgiIJmOZy"
      },
      "execution_count": 4,
      "outputs": []
    },
    {
      "cell_type": "code",
      "source": [
        "#Criando os dataframes a partir de datasets\n",
        "df_aisles = (spark.read.format('csv')\n",
        "                       .option('delimiter', ',')\n",
        "                       .option('header', 'true')\n",
        "                       .option('inferschema', 'true')\n",
        "                       .load('/content/drive/MyDrive/TI/aisles.csv'))"
      ],
      "metadata": {
        "id": "-gRb2J4WoPAl"
      },
      "execution_count": 5,
      "outputs": []
    },
    {
      "cell_type": "code",
      "source": [
        "#Criando os dataframes a partir de datasets\n",
        "df_departments = (spark.read.format('csv')\n",
        "                       .option('delimiter', ',')\n",
        "                       .option('header', 'true')\n",
        "                       .option('inferschema', 'true')\n",
        "                       .load('/content/drive/MyDrive/TI/departments.csv'))"
      ],
      "metadata": {
        "id": "ZgtwVCd8koo9"
      },
      "execution_count": 6,
      "outputs": []
    },
    {
      "cell_type": "code",
      "source": [
        "#Criando os dataframes a partir de datasets\n",
        "df_orders = (spark.read.format('csv')\n",
        "                       .option('delimiter', ',')\n",
        "                       .option('header', 'true')\n",
        "                       .option('inferschema', 'true')\n",
        "                       .load('/content/drive/MyDrive/TI/orders.csv'))"
      ],
      "metadata": {
        "id": "4X7i9TTFndeL"
      },
      "execution_count": 7,
      "outputs": []
    },
    {
      "cell_type": "code",
      "source": [
        "#Criando os dataframes a partir de datasets\n",
        "df_products = (spark.read.format('csv')\n",
        "                       .option('delimiter', ',')\n",
        "                       .option('header', 'true')\n",
        "                       .option('inferschema', 'true')\n",
        "                       .load('/content/drive/MyDrive/TI/products.csv'))"
      ],
      "metadata": {
        "id": "O3PLoQLbneRH"
      },
      "execution_count": 8,
      "outputs": []
    },
    {
      "cell_type": "code",
      "source": [
        "#Criando os dataframes a partir de datasets\n",
        "df_order_product_prior = (spark.read.format('csv')\n",
        "                       .option('delimiter', ',')\n",
        "                       .option('header', 'true')\n",
        "                       .option('inferschema', 'true')\n",
        "                       .load('/content/drive/MyDrive/TI/order_products__prior.csv'))"
      ],
      "metadata": {
        "id": "5XziTmKLne1n"
      },
      "execution_count": 9,
      "outputs": []
    },
    {
      "cell_type": "markdown",
      "source": [
        "##Análise exploratória"
      ],
      "metadata": {
        "id": "kb4KV5oooWNR"
      }
    },
    {
      "cell_type": "code",
      "source": [
        "#Shape aisle\n",
        "print(f'({df_aisles.count()}, {len(df_aisles.columns)})')"
      ],
      "metadata": {
        "colab": {
          "base_uri": "https://localhost:8080/"
        },
        "id": "Gih5vZDfnf8S",
        "outputId": "8cbc1216-29cc-4110-8b98-a1702bee2296"
      },
      "execution_count": 10,
      "outputs": [
        {
          "output_type": "stream",
          "name": "stdout",
          "text": [
            "(134, 2)\n"
          ]
        }
      ]
    },
    {
      "cell_type": "code",
      "source": [
        "#Analisando o esquema dos dados\n",
        "df_aisles.printSchema()"
      ],
      "metadata": {
        "colab": {
          "base_uri": "https://localhost:8080/"
        },
        "id": "HbvXOyH8pZF9",
        "outputId": "7e6c1558-e101-4004-a294-d9a251148242"
      },
      "execution_count": 11,
      "outputs": [
        {
          "output_type": "stream",
          "name": "stdout",
          "text": [
            "root\n",
            " |-- aisle_id: integer (nullable = true)\n",
            " |-- aisle: string (nullable = true)\n",
            "\n"
          ]
        }
      ]
    },
    {
      "cell_type": "code",
      "source": [
        "#Amostra de dados da tabela aisles\n",
        "df_aisles.show(truncate=False)"
      ],
      "metadata": {
        "colab": {
          "base_uri": "https://localhost:8080/"
        },
        "id": "xk9yOQTQpgz7",
        "outputId": "dbf7b10a-9d93-4f22-9e34-80158b3ea4f0"
      },
      "execution_count": 12,
      "outputs": [
        {
          "output_type": "stream",
          "name": "stdout",
          "text": [
            "+--------+----------------------------+\n",
            "|aisle_id|aisle                       |\n",
            "+--------+----------------------------+\n",
            "|1       |prepared soups salads       |\n",
            "|2       |specialty cheeses           |\n",
            "|3       |energy granola bars         |\n",
            "|4       |instant foods               |\n",
            "|5       |marinades meat preparation  |\n",
            "|6       |other                       |\n",
            "|7       |packaged meat               |\n",
            "|8       |bakery desserts             |\n",
            "|9       |pasta sauce                 |\n",
            "|10      |kitchen supplies            |\n",
            "|11      |cold flu allergy            |\n",
            "|12      |fresh pasta                 |\n",
            "|13      |prepared meals              |\n",
            "|14      |tofu meat alternatives      |\n",
            "|15      |packaged seafood            |\n",
            "|16      |fresh herbs                 |\n",
            "|17      |baking ingredients          |\n",
            "|18      |bulk dried fruits vegetables|\n",
            "|19      |oils vinegars               |\n",
            "|20      |oral hygiene                |\n",
            "+--------+----------------------------+\n",
            "only showing top 20 rows\n",
            "\n"
          ]
        }
      ]
    },
    {
      "cell_type": "code",
      "source": [
        "#Shape departments\n",
        "print(f'({df_departments.count()}, {len(df_departments.columns)})')"
      ],
      "metadata": {
        "colab": {
          "base_uri": "https://localhost:8080/"
        },
        "outputId": "061eb78b-6adf-4a21-af60-2da6b98ebd55",
        "id": "UvVEOKaIqdMM"
      },
      "execution_count": 13,
      "outputs": [
        {
          "output_type": "stream",
          "name": "stdout",
          "text": [
            "(21, 2)\n"
          ]
        }
      ]
    },
    {
      "cell_type": "code",
      "source": [
        "#Analisando o esquema dos dados\n",
        "df_departments.printSchema()"
      ],
      "metadata": {
        "colab": {
          "base_uri": "https://localhost:8080/"
        },
        "outputId": "81a80797-0ed1-44c8-88bb-7237cce1cd41",
        "id": "3zb5QxlrqdMO"
      },
      "execution_count": 14,
      "outputs": [
        {
          "output_type": "stream",
          "name": "stdout",
          "text": [
            "root\n",
            " |-- department_id: integer (nullable = true)\n",
            " |-- department: string (nullable = true)\n",
            "\n"
          ]
        }
      ]
    },
    {
      "cell_type": "code",
      "source": [
        "#Amostra de dados da tabela departments\n",
        "df_departments.show(truncate=False)"
      ],
      "metadata": {
        "colab": {
          "base_uri": "https://localhost:8080/"
        },
        "outputId": "eb29d161-0688-4d4b-d3c8-d515510850b2",
        "id": "1AUpH-hDqdMP"
      },
      "execution_count": 15,
      "outputs": [
        {
          "output_type": "stream",
          "name": "stdout",
          "text": [
            "+-------------+---------------+\n",
            "|department_id|department     |\n",
            "+-------------+---------------+\n",
            "|1            |frozen         |\n",
            "|2            |other          |\n",
            "|3            |bakery         |\n",
            "|4            |produce        |\n",
            "|5            |alcohol        |\n",
            "|6            |international  |\n",
            "|7            |beverages      |\n",
            "|8            |pets           |\n",
            "|9            |dry goods pasta|\n",
            "|10           |bulk           |\n",
            "|11           |personal care  |\n",
            "|12           |meat seafood   |\n",
            "|13           |pantry         |\n",
            "|14           |breakfast      |\n",
            "|15           |canned goods   |\n",
            "|16           |dairy eggs     |\n",
            "|17           |household      |\n",
            "|18           |babies         |\n",
            "|19           |snacks         |\n",
            "|20           |deli           |\n",
            "+-------------+---------------+\n",
            "only showing top 20 rows\n",
            "\n"
          ]
        }
      ]
    },
    {
      "cell_type": "code",
      "source": [
        "#Shape orders\n",
        "print(f'({df_orders.count()}, {len(df_orders.columns)})')"
      ],
      "metadata": {
        "colab": {
          "base_uri": "https://localhost:8080/"
        },
        "outputId": "270c5bf6-36da-4d4e-a324-f63f5f5973d9",
        "id": "RmRcVyx7qQ1o"
      },
      "execution_count": 16,
      "outputs": [
        {
          "output_type": "stream",
          "name": "stdout",
          "text": [
            "(3421083, 7)\n"
          ]
        }
      ]
    },
    {
      "cell_type": "code",
      "source": [
        "#Analisando o esquema dos dados\n",
        "df_orders.printSchema()"
      ],
      "metadata": {
        "colab": {
          "base_uri": "https://localhost:8080/"
        },
        "outputId": "1d191e4a-37b6-4adc-93b5-e1d975593588",
        "id": "4-kJhQdJqQ1p"
      },
      "execution_count": 17,
      "outputs": [
        {
          "output_type": "stream",
          "name": "stdout",
          "text": [
            "root\n",
            " |-- order_id: integer (nullable = true)\n",
            " |-- user_id: integer (nullable = true)\n",
            " |-- eval_set: string (nullable = true)\n",
            " |-- order_number: integer (nullable = true)\n",
            " |-- order_dow: integer (nullable = true)\n",
            " |-- order_hour_of_day: integer (nullable = true)\n",
            " |-- days_since_prior_order: double (nullable = true)\n",
            "\n"
          ]
        }
      ]
    },
    {
      "cell_type": "code",
      "source": [
        "#Amostra da tabela orders\n",
        "df_orders.show(truncate=False)"
      ],
      "metadata": {
        "colab": {
          "base_uri": "https://localhost:8080/"
        },
        "outputId": "cdfe2f16-2d12-49dc-f16a-3eaa55e206f2",
        "id": "4b3SgwabqQ1q"
      },
      "execution_count": 18,
      "outputs": [
        {
          "output_type": "stream",
          "name": "stdout",
          "text": [
            "+--------+-------+--------+------------+---------+-----------------+----------------------+\n",
            "|order_id|user_id|eval_set|order_number|order_dow|order_hour_of_day|days_since_prior_order|\n",
            "+--------+-------+--------+------------+---------+-----------------+----------------------+\n",
            "|2539329 |1      |prior   |1           |2        |8                |null                  |\n",
            "|2398795 |1      |prior   |2           |3        |7                |15.0                  |\n",
            "|473747  |1      |prior   |3           |3        |12               |21.0                  |\n",
            "|2254736 |1      |prior   |4           |4        |7                |29.0                  |\n",
            "|431534  |1      |prior   |5           |4        |15               |28.0                  |\n",
            "|3367565 |1      |prior   |6           |2        |7                |19.0                  |\n",
            "|550135  |1      |prior   |7           |1        |9                |20.0                  |\n",
            "|3108588 |1      |prior   |8           |1        |14               |14.0                  |\n",
            "|2295261 |1      |prior   |9           |1        |16               |0.0                   |\n",
            "|2550362 |1      |prior   |10          |4        |8                |30.0                  |\n",
            "|1187899 |1      |train   |11          |4        |8                |14.0                  |\n",
            "|2168274 |2      |prior   |1           |2        |11               |null                  |\n",
            "|1501582 |2      |prior   |2           |5        |10               |10.0                  |\n",
            "|1901567 |2      |prior   |3           |1        |10               |3.0                   |\n",
            "|738281  |2      |prior   |4           |2        |10               |8.0                   |\n",
            "|1673511 |2      |prior   |5           |3        |11               |8.0                   |\n",
            "|1199898 |2      |prior   |6           |2        |9                |13.0                  |\n",
            "|3194192 |2      |prior   |7           |2        |12               |14.0                  |\n",
            "|788338  |2      |prior   |8           |1        |15               |27.0                  |\n",
            "|1718559 |2      |prior   |9           |2        |9                |8.0                   |\n",
            "+--------+-------+--------+------------+---------+-----------------+----------------------+\n",
            "only showing top 20 rows\n",
            "\n"
          ]
        }
      ]
    },
    {
      "cell_type": "code",
      "source": [
        "#Shape products\n",
        "print(f'({df_products.count()}, {len(df_products.columns)})')"
      ],
      "metadata": {
        "colab": {
          "base_uri": "https://localhost:8080/"
        },
        "outputId": "0e248f60-2a53-4889-b814-1b8545b5c056",
        "id": "pdXFc7kjrsi1"
      },
      "execution_count": 19,
      "outputs": [
        {
          "output_type": "stream",
          "name": "stdout",
          "text": [
            "(49688, 4)\n"
          ]
        }
      ]
    },
    {
      "cell_type": "code",
      "source": [
        "#Analisa o esquema dos dados\n",
        "df_products.printSchema()"
      ],
      "metadata": {
        "colab": {
          "base_uri": "https://localhost:8080/"
        },
        "outputId": "0aa36e72-d300-4222-a872-498fb37270e0",
        "id": "Fb7wdKjprsi2"
      },
      "execution_count": 20,
      "outputs": [
        {
          "output_type": "stream",
          "name": "stdout",
          "text": [
            "root\n",
            " |-- product_id: integer (nullable = true)\n",
            " |-- product_name: string (nullable = true)\n",
            " |-- aisle_id: string (nullable = true)\n",
            " |-- department_id: string (nullable = true)\n",
            "\n"
          ]
        }
      ]
    },
    {
      "cell_type": "code",
      "source": [
        "#Amostra dos dados da tabela products\n",
        "df_products.show(truncate=False)"
      ],
      "metadata": {
        "colab": {
          "base_uri": "https://localhost:8080/"
        },
        "outputId": "42da9e00-6717-4648-9cf3-afec385b1770",
        "id": "wI56Sq2vrsi2"
      },
      "execution_count": 21,
      "outputs": [
        {
          "output_type": "stream",
          "name": "stdout",
          "text": [
            "+----------+-----------------------------------------------------------------+--------+-------------+\n",
            "|product_id|product_name                                                     |aisle_id|department_id|\n",
            "+----------+-----------------------------------------------------------------+--------+-------------+\n",
            "|1         |Chocolate Sandwich Cookies                                       |61      |19           |\n",
            "|2         |All-Seasons Salt                                                 |104     |13           |\n",
            "|3         |Robust Golden Unsweetened Oolong Tea                             |94      |7            |\n",
            "|4         |Smart Ones Classic Favorites Mini Rigatoni With Vodka Cream Sauce|38      |1            |\n",
            "|5         |Green Chile Anytime Sauce                                        |5       |13           |\n",
            "|6         |Dry Nose Oil                                                     |11      |11           |\n",
            "|7         |Pure Coconut Water With Orange                                   |98      |7            |\n",
            "|8         |Cut Russet Potatoes Steam N' Mash                                |116     |1            |\n",
            "|9         |Light Strawberry Blueberry Yogurt                                |120     |16           |\n",
            "|10        |Sparkling Orange Juice & Prickly Pear Beverage                   |115     |7            |\n",
            "|11        |Peach Mango Juice                                                |31      |7            |\n",
            "|12        |Chocolate Fudge Layer Cake                                       |119     |1            |\n",
            "|13        |Saline Nasal Mist                                                |11      |11           |\n",
            "|14        |Fresh Scent Dishwasher Cleaner                                   |74      |17           |\n",
            "|15        |Overnight Diapers Size 6                                         |56      |18           |\n",
            "|16        |Mint Chocolate Flavored Syrup                                    |103     |19           |\n",
            "|17        |Rendered Duck Fat                                                |35      |12           |\n",
            "|18        |Pizza for One Suprema  Frozen Pizza                              |79      |1            |\n",
            "|19        |Gluten Free Quinoa Three Cheese & Mushroom Blend                 |63      |9            |\n",
            "|20        |Pomegranate Cranberry & Aloe Vera Enrich Drink                   |98      |7            |\n",
            "+----------+-----------------------------------------------------------------+--------+-------------+\n",
            "only showing top 20 rows\n",
            "\n"
          ]
        }
      ]
    },
    {
      "cell_type": "code",
      "source": [
        "#Shape order_product_prior\n",
        "print(f'({df_order_product_prior.count()}, {len(df_order_product_prior.columns)})')"
      ],
      "metadata": {
        "colab": {
          "base_uri": "https://localhost:8080/"
        },
        "outputId": "1bf3fa57-e83a-4f5b-a6b3-852f4735d6ae",
        "id": "u7ZjA6TGsOiN"
      },
      "execution_count": 22,
      "outputs": [
        {
          "output_type": "stream",
          "name": "stdout",
          "text": [
            "(32492309, 4)\n"
          ]
        }
      ]
    },
    {
      "cell_type": "code",
      "source": [
        "#Analisa o esquema dos dados\n",
        "df_order_product_prior.printSchema()"
      ],
      "metadata": {
        "colab": {
          "base_uri": "https://localhost:8080/"
        },
        "outputId": "7cbbcbc5-8fbb-4443-a040-f0e87c22538e",
        "id": "nFU-UtobsOiP"
      },
      "execution_count": 23,
      "outputs": [
        {
          "output_type": "stream",
          "name": "stdout",
          "text": [
            "root\n",
            " |-- order_id: integer (nullable = true)\n",
            " |-- product_id: integer (nullable = true)\n",
            " |-- add_to_cart_order: integer (nullable = true)\n",
            " |-- reordered: integer (nullable = true)\n",
            "\n"
          ]
        }
      ]
    },
    {
      "cell_type": "code",
      "source": [
        "#Amostra dos pedidos por preço\n",
        "df_order_product_prior.show(truncate=False)"
      ],
      "metadata": {
        "colab": {
          "base_uri": "https://localhost:8080/"
        },
        "outputId": "065cdd53-1470-45c8-c2b5-bdd220109cf8",
        "id": "dcyAWj5fsOiQ"
      },
      "execution_count": 24,
      "outputs": [
        {
          "output_type": "stream",
          "name": "stdout",
          "text": [
            "+--------+----------+-----------------+---------+\n",
            "|order_id|product_id|add_to_cart_order|reordered|\n",
            "+--------+----------+-----------------+---------+\n",
            "|2       |33120     |1                |1        |\n",
            "|2       |28985     |2                |1        |\n",
            "|2       |9327      |3                |0        |\n",
            "|2       |45918     |4                |1        |\n",
            "|2       |30035     |5                |0        |\n",
            "|2       |17794     |6                |1        |\n",
            "|2       |40141     |7                |1        |\n",
            "|2       |1819      |8                |1        |\n",
            "|2       |43668     |9                |0        |\n",
            "|3       |33754     |1                |1        |\n",
            "|3       |24838     |2                |1        |\n",
            "|3       |17704     |3                |1        |\n",
            "|3       |21903     |4                |1        |\n",
            "|3       |17668     |5                |1        |\n",
            "|3       |46667     |6                |1        |\n",
            "|3       |17461     |7                |1        |\n",
            "|3       |32665     |8                |1        |\n",
            "|4       |46842     |1                |0        |\n",
            "|4       |26434     |2                |1        |\n",
            "|4       |39758     |3                |1        |\n",
            "+--------+----------+-----------------+---------+\n",
            "only showing top 20 rows\n",
            "\n"
          ]
        }
      ]
    },
    {
      "cell_type": "markdown",
      "source": [
        "##Tranformações (Limpeza, conversão , etc)"
      ],
      "metadata": {
        "id": "5bifQ7Hx0zCU"
      }
    },
    {
      "cell_type": "code",
      "source": [
        "#Analisando se existem valores nulos na tabela aisles\n",
        "df_aisles.select([F.count(F.when(F.isnan(c) | F.col(c).isNull(), c)).alias(c) for c in df_aisles.columns]).show()"
      ],
      "metadata": {
        "colab": {
          "base_uri": "https://localhost:8080/"
        },
        "id": "eDe84MWs0uMr",
        "outputId": "fba1c758-5008-44b9-eac7-331fafdd68b1"
      },
      "execution_count": 25,
      "outputs": [
        {
          "output_type": "stream",
          "name": "stdout",
          "text": [
            "+--------+-----+\n",
            "|aisle_id|aisle|\n",
            "+--------+-----+\n",
            "|       0|    0|\n",
            "+--------+-----+\n",
            "\n"
          ]
        }
      ]
    },
    {
      "cell_type": "code",
      "source": [
        "#Analisando se existem valores nulos na tabela departments\n",
        "df_departments.select([F.count(F.when(F.isnan(c) | F.col(c).isNull(), c)).alias(c) for c in df_departments.columns]).show()"
      ],
      "metadata": {
        "colab": {
          "base_uri": "https://localhost:8080/"
        },
        "id": "7BPf8YBI2Eov",
        "outputId": "478865c5-24cd-4e47-d11d-0a3c638e541f"
      },
      "execution_count": 26,
      "outputs": [
        {
          "output_type": "stream",
          "name": "stdout",
          "text": [
            "+-------------+----------+\n",
            "|department_id|department|\n",
            "+-------------+----------+\n",
            "|            0|         0|\n",
            "+-------------+----------+\n",
            "\n"
          ]
        }
      ]
    },
    {
      "cell_type": "code",
      "source": [
        "#Analisando se existem valores nulos na tabela orders\n",
        "df_orders.select([F.count(F.when(F.isnan(c) | F.col(c).isNull(), c)).alias(c) for c in df_orders.columns]).show()"
      ],
      "metadata": {
        "colab": {
          "base_uri": "https://localhost:8080/"
        },
        "id": "4QywJHgJ2Kf0",
        "outputId": "68e10441-cc97-4bc2-a272-a36f59c61e4e"
      },
      "execution_count": 27,
      "outputs": [
        {
          "output_type": "stream",
          "name": "stdout",
          "text": [
            "+--------+-------+--------+------------+---------+-----------------+----------------------+\n",
            "|order_id|user_id|eval_set|order_number|order_dow|order_hour_of_day|days_since_prior_order|\n",
            "+--------+-------+--------+------------+---------+-----------------+----------------------+\n",
            "|       0|      0|       0|           0|        0|                0|                206209|\n",
            "+--------+-------+--------+------------+---------+-----------------+----------------------+\n",
            "\n"
          ]
        }
      ]
    },
    {
      "cell_type": "code",
      "source": [
        "#Analisando se existem valores nulos na tabela products\n",
        "df_products.select([F.count(F.when(F.isnan(c) | F.col(c).isNull(), c)).alias(c) for c in df_products.columns]).show()"
      ],
      "metadata": {
        "colab": {
          "base_uri": "https://localhost:8080/"
        },
        "id": "PG75XSkk2iyk",
        "outputId": "8e0b5f12-b825-42c7-e51d-85023bea2a9c"
      },
      "execution_count": 28,
      "outputs": [
        {
          "output_type": "stream",
          "name": "stdout",
          "text": [
            "+----------+------------+--------+-------------+\n",
            "|product_id|product_name|aisle_id|department_id|\n",
            "+----------+------------+--------+-------------+\n",
            "|         0|           0|       0|            0|\n",
            "+----------+------------+--------+-------------+\n",
            "\n"
          ]
        }
      ]
    },
    {
      "cell_type": "code",
      "source": [
        "#Analisando se existem valores nulos na tabela pedidos por preço\n",
        "df_order_product_prior.select([F.count(F.when(F.isnan(c) | F.col(c).isNull(), c)).alias(c) for c in df_order_product_prior.columns]).show()"
      ],
      "metadata": {
        "colab": {
          "base_uri": "https://localhost:8080/"
        },
        "id": "A5wMRWUq2pJk",
        "outputId": "f0f8b701-710a-4311-aa14-0e785ee328bb"
      },
      "execution_count": 29,
      "outputs": [
        {
          "output_type": "stream",
          "name": "stdout",
          "text": [
            "+--------+----------+-----------------+---------+\n",
            "|order_id|product_id|add_to_cart_order|reordered|\n",
            "+--------+----------+-----------------+---------+\n",
            "|       0|         0|                0|        0|\n",
            "+--------+----------+-----------------+---------+\n",
            "\n"
          ]
        }
      ]
    },
    {
      "cell_type": "code",
      "source": [
        "#Procurando pedido com produto nulo\n",
        "df_order_product_prior.filter(F.col('product_id').isNull()).show() "
      ],
      "metadata": {
        "colab": {
          "base_uri": "https://localhost:8080/"
        },
        "id": "lrV_h0X13CfZ",
        "outputId": "a9e9ad32-89ce-486e-c285-3d639d28beb0"
      },
      "execution_count": 30,
      "outputs": [
        {
          "output_type": "stream",
          "name": "stdout",
          "text": [
            "+--------+----------+-----------------+---------+\n",
            "|order_id|product_id|add_to_cart_order|reordered|\n",
            "+--------+----------+-----------------+---------+\n",
            "+--------+----------+-----------------+---------+\n",
            "\n"
          ]
        }
      ]
    },
    {
      "cell_type": "code",
      "source": [
        "df_backup = df_order_product_prior"
      ],
      "metadata": {
        "id": "Mxz5Kfzk4Zcg"
      },
      "execution_count": 31,
      "outputs": []
    },
    {
      "cell_type": "code",
      "source": [
        "df_backup.count()"
      ],
      "metadata": {
        "colab": {
          "base_uri": "https://localhost:8080/"
        },
        "id": "VloiGXHs4d4Q",
        "outputId": "92cc6d6b-c62f-422a-d758-10beb6f47bc2"
      },
      "execution_count": 32,
      "outputs": [
        {
          "output_type": "execute_result",
          "data": {
            "text/plain": [
              "32492309"
            ]
          },
          "metadata": {},
          "execution_count": 32
        }
      ]
    },
    {
      "cell_type": "code",
      "source": [
        "#Dropando essa linha que contém valores nulos, pois é apenas 1 registro em mais de 7 milhões\n",
        "df_order_product_prior = df_order_product_prior.dropna(how='any')"
      ],
      "metadata": {
        "id": "3Y_RWdbw3ZDC"
      },
      "execution_count": 33,
      "outputs": []
    },
    {
      "cell_type": "code",
      "source": [
        "#Amostra de dados da tabela products\n",
        "df_products.show() "
      ],
      "metadata": {
        "colab": {
          "base_uri": "https://localhost:8080/"
        },
        "id": "C1-6VpT7_N8X",
        "outputId": "8ccf4563-c69b-4334-aa62-458fc447c98d"
      },
      "execution_count": 34,
      "outputs": [
        {
          "output_type": "stream",
          "name": "stdout",
          "text": [
            "+----------+--------------------+--------+-------------+\n",
            "|product_id|        product_name|aisle_id|department_id|\n",
            "+----------+--------------------+--------+-------------+\n",
            "|         1|Chocolate Sandwic...|      61|           19|\n",
            "|         2|    All-Seasons Salt|     104|           13|\n",
            "|         3|Robust Golden Uns...|      94|            7|\n",
            "|         4|Smart Ones Classi...|      38|            1|\n",
            "|         5|Green Chile Anyti...|       5|           13|\n",
            "|         6|        Dry Nose Oil|      11|           11|\n",
            "|         7|Pure Coconut Wate...|      98|            7|\n",
            "|         8|Cut Russet Potato...|     116|            1|\n",
            "|         9|Light Strawberry ...|     120|           16|\n",
            "|        10|Sparkling Orange ...|     115|            7|\n",
            "|        11|   Peach Mango Juice|      31|            7|\n",
            "|        12|Chocolate Fudge L...|     119|            1|\n",
            "|        13|   Saline Nasal Mist|      11|           11|\n",
            "|        14|Fresh Scent Dishw...|      74|           17|\n",
            "|        15|Overnight Diapers...|      56|           18|\n",
            "|        16|Mint Chocolate Fl...|     103|           19|\n",
            "|        17|   Rendered Duck Fat|      35|           12|\n",
            "|        18|Pizza for One Sup...|      79|            1|\n",
            "|        19|Gluten Free Quino...|      63|            9|\n",
            "|        20|Pomegranate Cranb...|      98|            7|\n",
            "+----------+--------------------+--------+-------------+\n",
            "only showing top 20 rows\n",
            "\n"
          ]
        }
      ]
    },
    {
      "cell_type": "code",
      "source": [
        "#Amostra de dados da tabela order_product_prior\n",
        "df_order_product_prior.show() "
      ],
      "metadata": {
        "colab": {
          "base_uri": "https://localhost:8080/"
        },
        "id": "IuY9UuW14hkF",
        "outputId": "08d7a869-b0f1-4c9f-fbd8-570c2bfe7734"
      },
      "execution_count": 35,
      "outputs": [
        {
          "output_type": "stream",
          "name": "stdout",
          "text": [
            "+--------+----------+-----------------+---------+\n",
            "|order_id|product_id|add_to_cart_order|reordered|\n",
            "+--------+----------+-----------------+---------+\n",
            "|       2|     33120|                1|        1|\n",
            "|       2|     28985|                2|        1|\n",
            "|       2|      9327|                3|        0|\n",
            "|       2|     45918|                4|        1|\n",
            "|       2|     30035|                5|        0|\n",
            "|       2|     17794|                6|        1|\n",
            "|       2|     40141|                7|        1|\n",
            "|       2|      1819|                8|        1|\n",
            "|       2|     43668|                9|        0|\n",
            "|       3|     33754|                1|        1|\n",
            "|       3|     24838|                2|        1|\n",
            "|       3|     17704|                3|        1|\n",
            "|       3|     21903|                4|        1|\n",
            "|       3|     17668|                5|        1|\n",
            "|       3|     46667|                6|        1|\n",
            "|       3|     17461|                7|        1|\n",
            "|       3|     32665|                8|        1|\n",
            "|       4|     46842|                1|        0|\n",
            "|       4|     26434|                2|        1|\n",
            "|       4|     39758|                3|        1|\n",
            "+--------+----------+-----------------+---------+\n",
            "only showing top 20 rows\n",
            "\n"
          ]
        }
      ]
    },
    {
      "cell_type": "code",
      "source": [
        "df_products.printSchema() "
      ],
      "metadata": {
        "colab": {
          "base_uri": "https://localhost:8080/"
        },
        "id": "Mo-mVIQS5t4o",
        "outputId": "0969305a-77f4-4675-d193-05b9080c43df"
      },
      "execution_count": 36,
      "outputs": [
        {
          "output_type": "stream",
          "name": "stdout",
          "text": [
            "root\n",
            " |-- product_id: integer (nullable = true)\n",
            " |-- product_name: string (nullable = true)\n",
            " |-- aisle_id: string (nullable = true)\n",
            " |-- department_id: string (nullable = true)\n",
            "\n"
          ]
        }
      ]
    },
    {
      "cell_type": "markdown",
      "source": [
        "##Join"
      ],
      "metadata": {
        "id": "J5qGW76d94Ct"
      }
    },
    {
      "cell_type": "code",
      "source": [
        "# 1º JOIN - df_order_product_prior com order\n",
        "df_join = df_order_product_prior.join(df_orders, on=['order_id'], how='left')"
      ],
      "metadata": {
        "id": "KAWvoaSK93lr"
      },
      "execution_count": 37,
      "outputs": []
    },
    {
      "cell_type": "code",
      "source": [
        "# 2º JOIN df_joincom product\n",
        "df_join = df_join.join(df_products, on=['product_id'], how='left')"
      ],
      "metadata": {
        "id": "Y68ZoLCNAQG1"
      },
      "execution_count": 38,
      "outputs": []
    },
    {
      "cell_type": "code",
      "source": [
        "# 3º JOIN df_join com aisles\n",
        "df_join = df_join.join(df_aisles, on=['aisle_id'], how='left')"
      ],
      "metadata": {
        "id": "dNlaxZ0DAkoW"
      },
      "execution_count": 39,
      "outputs": []
    },
    {
      "cell_type": "code",
      "source": [
        "#4º JOIN df_join com department\n",
        "df_join = df_join.join(df_departments, on=['department_id'], how='left')"
      ],
      "metadata": {
        "id": "qRUrJWLxA593"
      },
      "execution_count": 40,
      "outputs": []
    },
    {
      "cell_type": "code",
      "source": [
        "df_join.printSchema()"
      ],
      "metadata": {
        "colab": {
          "base_uri": "https://localhost:8080/"
        },
        "id": "TE1Jupu1BGUg",
        "outputId": "a7aea64e-75be-4067-dc73-1b121a07f4a0"
      },
      "execution_count": 41,
      "outputs": [
        {
          "output_type": "stream",
          "name": "stdout",
          "text": [
            "root\n",
            " |-- department_id: string (nullable = true)\n",
            " |-- aisle_id: string (nullable = true)\n",
            " |-- product_id: integer (nullable = true)\n",
            " |-- order_id: integer (nullable = true)\n",
            " |-- add_to_cart_order: integer (nullable = true)\n",
            " |-- reordered: integer (nullable = true)\n",
            " |-- user_id: integer (nullable = true)\n",
            " |-- eval_set: string (nullable = true)\n",
            " |-- order_number: integer (nullable = true)\n",
            " |-- order_dow: integer (nullable = true)\n",
            " |-- order_hour_of_day: integer (nullable = true)\n",
            " |-- days_since_prior_order: double (nullable = true)\n",
            " |-- product_name: string (nullable = true)\n",
            " |-- aisle: string (nullable = true)\n",
            " |-- department: string (nullable = true)\n",
            "\n"
          ]
        }
      ]
    },
    {
      "cell_type": "code",
      "source": [
        "df_join.show()"
      ],
      "metadata": {
        "colab": {
          "base_uri": "https://localhost:8080/"
        },
        "id": "7FHmLSTtBKHL",
        "outputId": "01eda253-0d85-4ace-d823-ffa30de44f95"
      },
      "execution_count": 42,
      "outputs": [
        {
          "output_type": "stream",
          "name": "stdout",
          "text": [
            "+-------------+--------+----------+--------+-----------------+---------+-------+--------+------------+---------+-----------------+----------------------+--------------------+--------------------+-------------+\n",
            "|department_id|aisle_id|product_id|order_id|add_to_cart_order|reordered|user_id|eval_set|order_number|order_dow|order_hour_of_day|days_since_prior_order|        product_name|               aisle|   department|\n",
            "+-------------+--------+----------+--------+-----------------+---------+-------+--------+------------+---------+-----------------+----------------------+--------------------+--------------------+-------------+\n",
            "|           16|     120|     33754|       3|                1|        1| 205970|   prior|          16|        5|               17|                  12.0|Total 2% with Str...|              yogurt|   dairy eggs|\n",
            "|           16|      91|     24838|       3|                2|        1| 205970|   prior|          16|        5|               17|                  12.0|Unsweetened Almon...|     soy lactosefree|   dairy eggs|\n",
            "|            4|     123|     17704|       3|                3|        1| 205970|   prior|          16|        5|               17|                  12.0|              Lemons|packaged vegetabl...|      produce|\n",
            "|            4|     123|     21903|       3|                4|        1| 205970|   prior|          16|        5|               17|                  12.0|Organic Baby Spinach|packaged vegetabl...|      produce|\n",
            "|           16|      91|     17668|       3|                5|        1| 205970|   prior|          16|        5|               17|                  12.0|Unsweetened Choco...|     soy lactosefree|   dairy eggs|\n",
            "|            4|      83|     46667|       3|                6|        1| 205970|   prior|          16|        5|               17|                  12.0| Organic Ginger Root|    fresh vegetables|      produce|\n",
            "|           12|      35|     17461|       3|                7|        1| 205970|   prior|          16|        5|               17|                  12.0|Air Chilled Organ...|     poultry counter| meat seafood|\n",
            "|            3|     112|     32665|       3|                8|        1| 205970|   prior|          16|        5|               17|                  12.0|Organic Ezekiel 4...|               bread|       bakery|\n",
            "|            3|      93|     46842|       4|                1|        0| 178520|   prior|          36|        1|                9|                   7.0|Plain Pre-Sliced ...|    breakfast bakery|       bakery|\n",
            "|           11|      11|     26434|       4|                2|        1| 178520|   prior|          36|        1|                9|                   7.0|Honey/Lemon Cough...|    cold flu allergy|personal care|\n",
            "|           19|       3|     39758|       4|                3|        1| 178520|   prior|          36|        1|                9|                   7.0|Chewy 25% Low Sug...| energy granola bars|       snacks|\n",
            "|           14|      48|     27761|       4|                4|        1| 178520|   prior|          36|        1|                9|                   7.0|Oats & Chocolate ...|breakfast bars pa...|    breakfast|\n",
            "|           16|      91|     27142|  833525|               18|        1| 170503|   prior|          51|        3|                6|                  10.0|Unsweetened Organ...|     soy lactosefree|   dairy eggs|\n",
            "|           13|      19|     24003|  833525|               19|        1| 170503|   prior|          51|        3|                6|                  10.0|Non-Stick Olive O...|       oils vinegars|       pantry|\n",
            "|            4|      83|     46667|  833525|               20|        1| 170503|   prior|          51|        3|                6|                  10.0| Organic Ginger Root|    fresh vegetables|      produce|\n",
            "|            4|      24|      5876|  833525|               21|        0| 170503|   prior|          51|        3|                6|                  10.0|       Organic Lemon|        fresh fruits|      produce|\n",
            "|            7|      31|     39108|  833527|                1|        1| 186525|   prior|           5|        4|               17|                  11.0|Pulp Free Orange ...|        refrigerated|    beverages|\n",
            "|           16|      84|     34594|  833527|                2|        1| 186525|   prior|           5|        4|               17|                  11.0|DHA Omega-3 Vanil...|                milk|   dairy eggs|\n",
            "|            1|      79|     35107|  833527|                3|        0| 186525|   prior|           5|        4|               17|                  11.0|Naturally Rising ...|        frozen pizza|       frozen|\n",
            "|           19|     107|     49496|  833527|                4|        0| 186525|   prior|           5|        4|               17|                  11.0|Puffs Simply Whit...|      chips pretzels|       snacks|\n",
            "+-------------+--------+----------+--------+-----------------+---------+-------+--------+------------+---------+-----------------+----------------------+--------------------+--------------------+-------------+\n",
            "only showing top 20 rows\n",
            "\n"
          ]
        }
      ]
    },
    {
      "cell_type": "code",
      "source": [
        "#Verificando se existe valores nulos no DF\n",
        "df_join.select([F.count(F.when(F.isnan(c) | F.col(c).isNull(), c)).alias(c) for c in df_join.columns]).show()"
      ],
      "metadata": {
        "colab": {
          "base_uri": "https://localhost:8080/"
        },
        "id": "0HpEOUL8B-FD",
        "outputId": "31b8dbce-6c95-4353-f9d2-59d7357e2e52"
      },
      "execution_count": 43,
      "outputs": [
        {
          "output_type": "stream",
          "name": "stdout",
          "text": [
            "+-------------+--------+----------+--------+-----------------+---------+-------+--------+------------+---------+-----------------+----------------------+------------+-----+----------+\n",
            "|department_id|aisle_id|product_id|order_id|add_to_cart_order|reordered|user_id|eval_set|order_number|order_dow|order_hour_of_day|days_since_prior_order|product_name|aisle|department|\n",
            "+-------------+--------+----------+--------+-----------------+---------+-------+--------+------------+---------+-----------------+----------------------+------------+-----+----------+\n",
            "|            1|       1|         0|       0|                0|        0|      0|       0|           0|        0|                0|               2082343|           1|    4|         4|\n",
            "+-------------+--------+----------+--------+-----------------+---------+-------+--------+------------+---------+-----------------+----------------------+------------+-----+----------+\n",
            "\n"
          ]
        }
      ]
    },
    {
      "cell_type": "code",
      "source": [
        "#Dropando pois é o único registro que possui  dados nulos na tabela aisle e department\n",
        "df_join = df_join.dropna(how='any', subset='aisle')\n",
        "df_join = df_join.dropna(how='any', subset='department')"
      ],
      "metadata": {
        "id": "V4y7eooXCwwb"
      },
      "execution_count": 44,
      "outputs": []
    },
    {
      "cell_type": "code",
      "source": [
        "#Calculando o percentual de valores ausentes na tabela days_since_prior_order\n",
        "media = (df_join.filter(F.col('days_since_prior_order').isNull() | F.isnan(F.col('days_since_prior_order'))).count() / df_join.select('days_since_prior_order').count() * 100)\n",
        "\n",
        "print(media)"
      ],
      "metadata": {
        "colab": {
          "base_uri": "https://localhost:8080/"
        },
        "id": "YXQW1MW9DvS8",
        "outputId": "25e4f014-ad27-455a-df04-c4c80b3920c7"
      },
      "execution_count": 45,
      "outputs": [
        {
          "output_type": "stream",
          "name": "stdout",
          "text": [
            "6.408726620041268\n"
          ]
        }
      ]
    },
    {
      "cell_type": "markdown",
      "source": [
        "##Estatística Descritiva - Frequência"
      ],
      "metadata": {
        "id": "27RkhE7rFe0z"
      }
    },
    {
      "cell_type": "code",
      "source": [
        "df = df_join"
      ],
      "metadata": {
        "id": "hMB5M-iCGW6T"
      },
      "execution_count": 46,
      "outputs": []
    },
    {
      "cell_type": "code",
      "source": [
        "df.show()"
      ],
      "metadata": {
        "colab": {
          "base_uri": "https://localhost:8080/"
        },
        "id": "io9HG4PnGaRC",
        "outputId": "01ea9caa-90ab-468e-a5c0-8538c8242797"
      },
      "execution_count": 47,
      "outputs": [
        {
          "output_type": "stream",
          "name": "stdout",
          "text": [
            "+-------------+--------+----------+--------+-----------------+---------+-------+--------+------------+---------+-----------------+----------------------+--------------------+--------------------+------------+\n",
            "|department_id|aisle_id|product_id|order_id|add_to_cart_order|reordered|user_id|eval_set|order_number|order_dow|order_hour_of_day|days_since_prior_order|        product_name|               aisle|  department|\n",
            "+-------------+--------+----------+--------+-----------------+---------+-------+--------+------------+---------+-----------------+----------------------+--------------------+--------------------+------------+\n",
            "|           16|      53|     30597|      12|                1|        1| 152610|   prior|          22|        6|                8|                  10.0|French Vanilla Co...|               cream|  dairy eggs|\n",
            "|           16|      84|     15221|      12|                2|        1| 152610|   prior|          22|        6|                8|                  10.0|             2% Milk|                milk|  dairy eggs|\n",
            "|            4|      83|     43772|      12|                3|        1| 152610|   prior|          22|        6|                8|                  10.0|Cherubs Heavenly ...|    fresh vegetables|     produce|\n",
            "|           16|      53|     37886|      12|                4|        1| 152610|   prior|          22|        6|                8|                  10.0|Extra Creamy Dair...|               cream|  dairy eggs|\n",
            "|            7|      98|     37215|      12|                5|        0| 152610|   prior|          22|        6|                8|                  10.0|100% Cranberry Juice|       juice nectars|   beverages|\n",
            "|            7|      98|     34335|      12|                6|        1| 152610|   prior|          22|        6|                8|                  10.0|Ruby Red Grapefru...|       juice nectars|   beverages|\n",
            "|            7|      98|      3164|      12|                7|        0| 152610|   prior|          22|        6|                8|                  10.0|100% Juice No Add...|       juice nectars|   beverages|\n",
            "|            7|      98|     26910|      12|                8|        0| 152610|   prior|          22|        6|                8|                  10.0|100% Juice No Sug...|       juice nectars|   beverages|\n",
            "|           15|      69|     38888|      12|                9|        0| 152610|   prior|          22|        6|                8|                  10.0|Cheddar Cheese Co...| soup broth bouillon|canned goods|\n",
            "|            1|      34|     38050|      12|               10|        1| 152610|   prior|          22|        6|                8|                  10.0|All Natural Bonel...| frozen meat seafood|      frozen|\n",
            "|           19|     125|     25213|      12|               11|        0| 152610|   prior|          22|        6|                8|                  10.0|Sweet & Salty Sna...| trail mix snack mix|      snacks|\n",
            "|           19|     125|     11175|      12|               12|        0| 152610|   prior|          22|        6|                8|                  10.0|Game Day Barbecue...| trail mix snack mix|      snacks|\n",
            "|           19|     125|     23390|      12|               13|        0| 152610|   prior|          22|        6|                8|                  10.0|Chocolate Caramel...| trail mix snack mix|      snacks|\n",
            "|            1|     129|     29471|      12|               14|        0| 152610|   prior|          22|        6|                8|                  10.0|Combination Pizza...|frozen appetizers...|      frozen|\n",
            "|            8|      40|     43511|      12|               15|        0| 152610|   prior|          22|        6|                8|                  10.0|Sunrise Grilled S...|       dog food care|        pets|\n",
            "|           16|      91|     35951|      26|                1|        0| 153404|   prior|           2|        0|               16|                   7.0|Organic Unsweeten...|     soy lactosefree|  dairy eggs|\n",
            "|            4|      24|     24852|      26|                2|        1| 153404|   prior|           2|        0|               16|                   7.0|              Banana|        fresh fruits|     produce|\n",
            "|            4|      24|     46206|      26|                3|        0| 153404|   prior|           2|        0|               16|                   7.0|      Red Grapefruit|        fresh fruits|     produce|\n",
            "|           12|      49|     25890|      26|                4|        0| 153404|   prior|           2|        0|               16|                   7.0|Boneless Skinless...|    packaged poultry|meat seafood|\n",
            "|           16|      86|     33120|      26|                5|        0| 153404|   prior|           2|        0|               16|                   7.0|  Organic Egg Whites|                eggs|  dairy eggs|\n",
            "+-------------+--------+----------+--------+-----------------+---------+-------+--------+------------+---------+-----------------+----------------------+--------------------+--------------------+------------+\n",
            "only showing top 20 rows\n",
            "\n"
          ]
        }
      ]
    },
    {
      "cell_type": "markdown",
      "source": [
        "1) QUAL O NÚMERO DE PEDIDOS MAIS FREQUENTE ENTRE OS CLIENTES?"
      ],
      "metadata": {
        "id": "16P11CTIG5zr"
      }
    },
    {
      "cell_type": "code",
      "source": [
        "df_orders.show()"
      ],
      "metadata": {
        "colab": {
          "base_uri": "https://localhost:8080/"
        },
        "id": "lk4c4GLKOBDP",
        "outputId": "f1bc101b-d0f7-4761-acf4-497dd2a363ee"
      },
      "execution_count": 48,
      "outputs": [
        {
          "output_type": "stream",
          "name": "stdout",
          "text": [
            "+--------+-------+--------+------------+---------+-----------------+----------------------+\n",
            "|order_id|user_id|eval_set|order_number|order_dow|order_hour_of_day|days_since_prior_order|\n",
            "+--------+-------+--------+------------+---------+-----------------+----------------------+\n",
            "| 2539329|      1|   prior|           1|        2|                8|                  null|\n",
            "| 2398795|      1|   prior|           2|        3|                7|                  15.0|\n",
            "|  473747|      1|   prior|           3|        3|               12|                  21.0|\n",
            "| 2254736|      1|   prior|           4|        4|                7|                  29.0|\n",
            "|  431534|      1|   prior|           5|        4|               15|                  28.0|\n",
            "| 3367565|      1|   prior|           6|        2|                7|                  19.0|\n",
            "|  550135|      1|   prior|           7|        1|                9|                  20.0|\n",
            "| 3108588|      1|   prior|           8|        1|               14|                  14.0|\n",
            "| 2295261|      1|   prior|           9|        1|               16|                   0.0|\n",
            "| 2550362|      1|   prior|          10|        4|                8|                  30.0|\n",
            "| 1187899|      1|   train|          11|        4|                8|                  14.0|\n",
            "| 2168274|      2|   prior|           1|        2|               11|                  null|\n",
            "| 1501582|      2|   prior|           2|        5|               10|                  10.0|\n",
            "| 1901567|      2|   prior|           3|        1|               10|                   3.0|\n",
            "|  738281|      2|   prior|           4|        2|               10|                   8.0|\n",
            "| 1673511|      2|   prior|           5|        3|               11|                   8.0|\n",
            "| 1199898|      2|   prior|           6|        2|                9|                  13.0|\n",
            "| 3194192|      2|   prior|           7|        2|               12|                  14.0|\n",
            "|  788338|      2|   prior|           8|        1|               15|                  27.0|\n",
            "| 1718559|      2|   prior|           9|        2|                9|                   8.0|\n",
            "+--------+-------+--------+------------+---------+-----------------+----------------------+\n",
            "only showing top 20 rows\n",
            "\n"
          ]
        }
      ]
    },
    {
      "cell_type": "code",
      "source": [
        "#order\n",
        "qtd_compras_usuarios = df_orders.groupBy(F.col('user_id')).agg(F.count('order_number').alias('qtd_pedidos')).orderBy(F.col('user_id').asc())"
      ],
      "metadata": {
        "id": "tHd86Lt7Nfrt"
      },
      "execution_count": 49,
      "outputs": []
    },
    {
      "cell_type": "code",
      "source": [
        "qtd_compras_usuarios.show()"
      ],
      "metadata": {
        "colab": {
          "base_uri": "https://localhost:8080/"
        },
        "id": "Iye2IWUqPc07",
        "outputId": "d8329ea0-d4e7-4af3-fe2c-8d6b0a86d385"
      },
      "execution_count": 50,
      "outputs": [
        {
          "output_type": "stream",
          "name": "stdout",
          "text": [
            "+-------+-----------+\n",
            "|user_id|qtd_pedidos|\n",
            "+-------+-----------+\n",
            "|      1|         11|\n",
            "|      2|         15|\n",
            "|      3|         13|\n",
            "|      4|          6|\n",
            "|      5|          5|\n",
            "|      6|          4|\n",
            "|      7|         21|\n",
            "|      8|          4|\n",
            "|      9|          4|\n",
            "|     10|          6|\n",
            "|     11|          8|\n",
            "|     12|          6|\n",
            "|     13|         13|\n",
            "|     14|         14|\n",
            "|     15|         23|\n",
            "|     16|          7|\n",
            "|     17|         41|\n",
            "|     18|          7|\n",
            "|     19|         10|\n",
            "|     20|          5|\n",
            "+-------+-----------+\n",
            "only showing top 20 rows\n",
            "\n"
          ]
        }
      ]
    },
    {
      "cell_type": "code",
      "source": [
        "qtd_compras_usuarios.groupBy('qtd_pedidos').agg(F.count('qtd_pedidos').alias('frequencia')).orderBy(F.col('frequencia').asc()).show()"
      ],
      "metadata": {
        "colab": {
          "base_uri": "https://localhost:8080/"
        },
        "id": "NQ81or82Pjx9",
        "outputId": "121e2553-35c0-4c3b-9d31-411bf6a51b0e"
      },
      "execution_count": 51,
      "outputs": [
        {
          "output_type": "stream",
          "name": "stdout",
          "text": [
            "+-----------+----------+\n",
            "|qtd_pedidos|frequencia|\n",
            "+-----------+----------+\n",
            "|         99|        47|\n",
            "|         98|        50|\n",
            "|         97|        54|\n",
            "|         91|        56|\n",
            "|         94|        57|\n",
            "|         95|        64|\n",
            "|         96|        67|\n",
            "|         93|        67|\n",
            "|         92|        69|\n",
            "|         89|        77|\n",
            "|         87|        78|\n",
            "|         88|        79|\n",
            "|         90|        85|\n",
            "|         83|        86|\n",
            "|         86|        93|\n",
            "|         84|        99|\n",
            "|         85|       100|\n",
            "|         81|       108|\n",
            "|         80|       116|\n",
            "|         82|       119|\n",
            "+-----------+----------+\n",
            "only showing top 20 rows\n",
            "\n"
          ]
        }
      ]
    },
    {
      "cell_type": "code",
      "source": [
        "df.groupBy(F.col('order_number')).agg(F.count('order_number').alias('n de pedidos')).orderBy(F.col('n de pedidos').desc()).show()"
      ],
      "metadata": {
        "colab": {
          "base_uri": "https://localhost:8080/"
        },
        "id": "StjcWZI7MHp0",
        "outputId": "18cf5998-4380-4d54-e1b4-4c554fed5774"
      },
      "execution_count": 52,
      "outputs": [
        {
          "output_type": "stream",
          "name": "stdout",
          "text": [
            "+------------+------------+\n",
            "|order_number|n de pedidos|\n",
            "+------------+------------+\n",
            "|           1|     2082343|\n",
            "|           3|     2054363|\n",
            "|           2|     2051912|\n",
            "|           4|     1823490|\n",
            "|           5|     1631796|\n",
            "|           6|     1474657|\n",
            "|           7|     1336695|\n",
            "|           8|     1221182|\n",
            "|           9|     1122261|\n",
            "|          10|     1030528|\n",
            "|          11|      952069|\n",
            "|          12|      879009|\n",
            "|          13|      821195|\n",
            "|          14|      763230|\n",
            "|          15|      708082|\n",
            "|          16|      663728|\n",
            "|          17|      623262|\n",
            "|          18|      585569|\n",
            "|          19|      550563|\n",
            "|          20|      515736|\n",
            "+------------+------------+\n",
            "only showing top 20 rows\n",
            "\n"
          ]
        }
      ]
    },
    {
      "cell_type": "markdown",
      "source": [
        "01) QUANTIDADE DE PEDIDOS QUE MAIS APARECERAM"
      ],
      "metadata": {
        "id": "7DidByRbJ4Fj"
      }
    },
    {
      "cell_type": "code",
      "source": [
        "\n",
        "df.agg(F.mode('order_number').alias('moda')).show()"
      ],
      "metadata": {
        "colab": {
          "base_uri": "https://localhost:8080/"
        },
        "id": "247V674kNK15",
        "outputId": "7d3248e9-6ddf-4466-e993-50f942db33aa"
      },
      "execution_count": 53,
      "outputs": [
        {
          "output_type": "stream",
          "name": "stdout",
          "text": [
            "+----+\n",
            "|moda|\n",
            "+----+\n",
            "|   1|\n",
            "+----+\n",
            "\n"
          ]
        }
      ]
    },
    {
      "cell_type": "markdown",
      "source": [
        "2) QUAL O DIA DA SEMANA TEM O MAIOR NÚMERO DE PEDIDOS?\n",
        "   - Verifique também a quantidade de pedidos em cada dia da semana"
      ],
      "metadata": {
        "id": "BbRoNQhPJja3"
      }
    },
    {
      "cell_type": "code",
      "source": [
        "df_pedidos = df_orders.groupBy(F.col('order_dow')).agg(F.count('order_dow').alias('qtd_pedidos')).orderBy(F.col('qtd_pedidos').desc())"
      ],
      "metadata": {
        "id": "I0rvJRG6TN-2"
      },
      "execution_count": 54,
      "outputs": []
    },
    {
      "cell_type": "code",
      "source": [
        "#dias_semana - CRIAR UMA LISTA COM DIAS DA SEMANA (0-6)\n",
        "#total_pedidos - LISTA DA QUANTIDADE DE PEDIDOS POR DIA DA SEMANA\n",
        "dias_semana = list(range(0, 7))\n",
        "total_pedidos = []\n",
        "\n",
        "for i in range(7):\n",
        "  total_pedidos.append(df_orders.filter(F.col('order_dow') == i).count())\n",
        "'''\n",
        "total_pedidos = [df_orders.filter(F.col('order_dow') == 0).count(),\n",
        "                 df_orders.filter(F.col('order_dow') == 1).count(),\n",
        "                 df_orders.filter(F.col('order_dow') == 2).count(),\n",
        "                 df_orders.filter(F.col('order_dow') == 3).count(),\n",
        "                 df_orders.filter(F.col('order_dow') == 4).count(),\n",
        "                 df_orders.filter(F.col('order_dow') == 5).count(),\n",
        "                 df_orders.filter(F.col('order_dow') == 6).count()]\n",
        "'''\n",
        "print(total_pedidos)"
      ],
      "metadata": {
        "colab": {
          "base_uri": "https://localhost:8080/"
        },
        "id": "sgH7z4JIWI4D",
        "outputId": "b405aec5-2e38-45be-9ee4-3767c7f71af6"
      },
      "execution_count": 55,
      "outputs": [
        {
          "output_type": "stream",
          "name": "stdout",
          "text": [
            "[600905, 587478, 467260, 436972, 426339, 453368, 448761]\n"
          ]
        }
      ]
    },
    {
      "cell_type": "code",
      "source": [
        "# Plot\n",
        "plt.figure(figsize = (10,5))\n",
        "plt.bar(dias_semana,total_pedidos, color = 'plum')\n",
        "plt.xlabel('Dia da Semana', fontsize = 14, fontweight = 'bold')\n",
        "plt.ylabel('Frequência', fontsize = 14, fontweight = 'bold')\n",
        "plt.xticks(dias_semana,['Domingo', 'Segunda', 'Terça', 'Quarta', 'Quinta', 'Sexta', 'Sábado'], rotation = 'vertical')\n",
        "plt.show()"
      ],
      "metadata": {
        "colab": {
          "base_uri": "https://localhost:8080/",
          "height": 519
        },
        "id": "VtkPhjb0WEvj",
        "outputId": "6ed7045c-bc69-4749-f52d-735f10182da0"
      },
      "execution_count": 56,
      "outputs": [
        {
          "output_type": "display_data",
          "data": {
            "text/plain": [
              "<Figure size 1000x500 with 1 Axes>"
            ],
            "image/png": "[encoded data removed]"
          },
          "metadata": {}
        }
      ]
    },
    {
      "cell_type": "markdown",
      "source": [
        "3) QUAL HORA DO DIA TEM O MAIOR NÚMERO DE PEDIDOS?"
      ],
      "metadata": {
        "id": "9eB8rlbMWuU9"
      }
    },
    {
      "cell_type": "code",
      "source": [
        "df_orders.groupBy(F.col('order_hour_of_day')).agg(F.count('order_hour_of_day').alias('qtd_pedidos')).orderBy(F.col('qtd_pedidos').desc()).show()"
      ],
      "metadata": {
        "colab": {
          "base_uri": "https://localhost:8080/"
        },
        "id": "N9uiD7Zlc05f",
        "outputId": "41eea1b6-3dfc-4faa-8d8a-65c5a2d2a35d"
      },
      "execution_count": 57,
      "outputs": [
        {
          "output_type": "stream",
          "name": "stdout",
          "text": [
            "+-----------------+-----------+\n",
            "|order_hour_of_day|qtd_pedidos|\n",
            "+-----------------+-----------+\n",
            "|               10|     288418|\n",
            "|               11|     284728|\n",
            "|               15|     283639|\n",
            "|               14|     283042|\n",
            "|               13|     277999|\n",
            "|               12|     272841|\n",
            "|               16|     272553|\n",
            "|                9|     257812|\n",
            "|               17|     228795|\n",
            "|               18|     182912|\n",
            "|                8|     178201|\n",
            "|               19|     140569|\n",
            "|               20|     104292|\n",
            "|                7|      91868|\n",
            "|               21|      78109|\n",
            "|               22|      61468|\n",
            "|               23|      40043|\n",
            "|                6|      30529|\n",
            "|                0|      22758|\n",
            "|                1|      12398|\n",
            "+-----------------+-----------+\n",
            "only showing top 20 rows\n",
            "\n"
          ]
        }
      ]
    },
    {
      "cell_type": "code",
      "source": [
        "lista_horas = list(range(0, 24))\n",
        "qtd_pedidos = []\n",
        "\n",
        "for i in range(24):\n",
        "  qtd_pedidos.append(df_orders.filter(F.col('order_hour_of_day') == i).count())"
      ],
      "metadata": {
        "id": "-6iqwVlNdo1i"
      },
      "execution_count": 58,
      "outputs": []
    },
    {
      "cell_type": "code",
      "source": [
        "# Plot\n",
        "plt.figure(figsize = (20,5))\n",
        "plt.bar(lista_horas,qtd_pedidos,color = 'cadetblue')\n",
        "plt.xticks(np.arange(0,24,1))\n",
        "plt.xlabel('Hora do Dia', fontsize = 14, fontweight = 'bold')\n",
        "plt.ylabel('Frequência', fontsize = 14, fontweight = 'bold')\n",
        "plt.show()"
      ],
      "metadata": {
        "colab": {
          "base_uri": "https://localhost:8080/",
          "height": 423
        },
        "id": "hX9vhElEeJAM",
        "outputId": "6a3a910f-d111-4780-9fb6-c02ddc1b38ae"
      },
      "execution_count": 59,
      "outputs": [
        {
          "output_type": "display_data",
          "data": {
            "text/plain": [
              "<Figure size 2000x500 with 1 Axes>"
            ],
            "image/png": "[encoded data removed]"
          },
          "metadata": {}
        }
      ]
    },
    {
      "cell_type": "markdown",
      "source": [
        "4) QUAL O DEPARTAMENTO TEM O MAIOR NÚMERO DE PEDIDOS?"
      ],
      "metadata": {
        "id": "4KVXj-zHVtvm"
      }
    },
    {
      "cell_type": "code",
      "source": [
        "df_join_table = df_order_product_prior.join(df_orders, on=['order_id'], how='left')\\\n",
        "  .join(df_products, on=['product_id'], how='left')\\\n",
        "  .join(df_aisles, on=['aisle_id'], how='left')\\\n",
        "  .join(df_departments, on=['department_id'], how='left')"
      ],
      "metadata": {
        "id": "1AJlv8i09ybt"
      },
      "execution_count": 60,
      "outputs": []
    },
    {
      "cell_type": "code",
      "source": [
        "df_join_table\\\n",
        "  .groupBy(F.col('department'))\\\n",
        "  .agg(F.countDistinct('order_id').alias('qtd_pedidos'))\\\n",
        "  .orderBy(F.col('qtd_pedidos').desc()).show()"
      ],
      "metadata": {
        "colab": {
          "base_uri": "https://localhost:8080/"
        },
        "id": "IxM1HHF1v66l",
        "outputId": "71cd9fc0-34f0-46eb-c686-88313634a377"
      },
      "execution_count": 61,
      "outputs": [
        {
          "output_type": "stream",
          "name": "stdout",
          "text": [
            "+---------------+-----------+\n",
            "|     department|qtd_pedidos|\n",
            "+---------------+-----------+\n",
            "|        produce|    2409320|\n",
            "|     dairy eggs|    2177338|\n",
            "|      beverages|    1457351|\n",
            "|         snacks|    1391447|\n",
            "|         frozen|    1181018|\n",
            "|         pantry|    1117892|\n",
            "|         bakery|     881556|\n",
            "|           deli|     770300|\n",
            "|   canned goods|     681305|\n",
            "|dry goods pasta|     597862|\n",
            "|   meat seafood|     574731|\n",
            "|      breakfast|     525188|\n",
            "|      household|     470779|\n",
            "|  personal care|     318555|\n",
            "|  international|     221537|\n",
            "|         babies|     177712|\n",
            "|        alcohol|      84689|\n",
            "|        missing|      59477|\n",
            "|           pets|      59282|\n",
            "|          other|      35056|\n",
            "+---------------+-----------+\n",
            "only showing top 20 rows\n",
            "\n"
          ]
        }
      ]
    },
    {
      "cell_type": "markdown",
      "source": [
        "5 - QUAIS OS 20 PRINCIPAIS CORREDORES POR FREQUÊNCIA DE PEDIDOS?"
      ],
      "metadata": {
        "id": "Vh52J836gS4H"
      }
    },
    {
      "cell_type": "code",
      "source": [
        "df_join_table\\\n",
        "  .groupBy(F.col('aisle'))\\\n",
        "  .agg(F.countDistinct('order_id').alias('qtd_pedidos'))\\\n",
        "  .orderBy(F.col('qtd_pedidos').desc()).show(20)"
      ],
      "metadata": {
        "colab": {
          "base_uri": "https://localhost:8080/"
        },
        "id": "eNyqXgTh-iXk",
        "outputId": "5e60fcb7-bd68-4076-b3fe-6d58ad00e723"
      },
      "execution_count": 62,
      "outputs": [
        {
          "output_type": "stream",
          "name": "stdout",
          "text": [
            "+--------------------+-----------+\n",
            "|               aisle|qtd_pedidos|\n",
            "+--------------------+-----------+\n",
            "|        fresh fruits|    1790771|\n",
            "|    fresh vegetables|    1427631|\n",
            "|packaged vegetabl...|    1179243|\n",
            "|              yogurt|     847081|\n",
            "|                milk|     785987|\n",
            "|     packaged cheese|     737899|\n",
            "|water seltzer spa...|     614081|\n",
            "|     soy lactosefree|     545714|\n",
            "|      chips pretzels|     538052|\n",
            "|               bread|     527129|\n",
            "|                eggs|     440410|\n",
            "|        refrigerated|     429510|\n",
            "|      frozen produce|     395743|\n",
            "|            crackers|     368577|\n",
            "|       ice cream ice|     352768|\n",
            "|          lunch meat|     334151|\n",
            "|fresh dips tapenades|     314910|\n",
            "|         fresh herbs|     300364|\n",
            "|              cereal|     297307|\n",
            "|               cream|     295032|\n",
            "+--------------------+-----------+\n",
            "only showing top 20 rows\n",
            "\n"
          ]
        }
      ]
    },
    {
      "cell_type": "markdown",
      "source": [
        "6 - QUAIS OS 20 PRINCIPAIS PRODUTOS POR FREQUÊNCIA DE PEDIDOS?"
      ],
      "metadata": {
        "id": "l8TI6jF1gYX7"
      }
    },
    {
      "cell_type": "code",
      "source": [
        "df_join_table\\\n",
        "  .groupBy(F.col('product_name'))\\\n",
        "  .agg(F.countDistinct('order_id').alias('qtd_pedidos'))\\\n",
        "  .orderBy(F.col('qtd_pedidos').desc()).show(20)"
      ],
      "metadata": {
        "colab": {
          "base_uri": "https://localhost:8080/"
        },
        "id": "m6H2fI2DA-1N",
        "outputId": "6155091d-07cc-46df-b0c4-12dfe99757b9"
      },
      "execution_count": 64,
      "outputs": [
        {
          "output_type": "stream",
          "name": "stdout",
          "text": [
            "+--------------------+-----------+\n",
            "|        product_name|qtd_pedidos|\n",
            "+--------------------+-----------+\n",
            "|              Banana|     472565|\n",
            "|Bag of Organic Ba...|     379450|\n",
            "|Organic Strawberries|     264683|\n",
            "|Organic Baby Spinach|     241921|\n",
            "|Organic Hass Avocado|     213584|\n",
            "|     Organic Avocado|     176815|\n",
            "|         Large Lemon|     152657|\n",
            "|        Strawberries|     142951|\n",
            "|               Limes|     140627|\n",
            "|  Organic Whole Milk|     137905|\n",
            "| Organic Raspberries|     137057|\n",
            "|Organic Yellow Onion|     113426|\n",
            "|      Organic Garlic|     109778|\n",
            "|    Organic Zucchini|     104823|\n",
            "| Organic Blueberries|     100060|\n",
            "|      Cucumber Kirby|      97315|\n",
            "|  Organic Fuji Apple|      89632|\n",
            "|       Organic Lemon|      87746|\n",
            "|Apple Honeycrisp ...|      85020|\n",
            "|Organic Grape Tom...|      84255|\n",
            "+--------------------+-----------+\n",
            "only showing top 20 rows\n",
            "\n"
          ]
        }
      ]
    },
    {
      "cell_type": "markdown",
      "source": [
        "7 - ANÁLISE DE NOVOS PEDIDOS SEMELHANTES A PEDIDOS ANTERIORES (reorder)"
      ],
      "metadata": {
        "id": "Pc70rbmAgcCI"
      }
    },
    {
      "cell_type": "code",
      "source": [
        "df_join_table\\\n",
        "  .groupBy(F.col('order_id'))\\\n",
        "  .agg(F.count(F.col('reordered')).alias('pedidos_feitos'),F.count(F.when(F.col('reordered') == 1, True)).alias('pedidos_refeitos'))\\\n",
        "  .orderBy(F.col('pedidos_feitos').desc(),F.col('pedidos_refeitos').desc()).show(20)"
      ],
      "metadata": {
        "colab": {
          "base_uri": "https://localhost:8080/"
        },
        "id": "OFpMNDEIBNkE",
        "outputId": "70f3d9df-9c4b-4a4b-b42c-92f47d6b86c5"
      },
      "execution_count": 65,
      "outputs": [
        {
          "metadata": {
            "tags": null
          },
          "name": "stdout",
          "output_type": "stream",
          "text": [
            "+--------+--------------+----------------+\n",
            "|order_id|pedidos_feitos|pedidos_refeitos|\n",
            "+--------+--------------+----------------+\n",
            "| 1564244|           145|              80|\n",
            "|  790903|           137|             130|\n",
            "|   61355|           127|               4|\n",
            "| 1992780|           124|              52|\n",
            "| 1991701|           124|              50|\n",
            "| 2970392|           121|              85|\n",
            "| 1991083|           118|              88|\n",
            "| 2069920|           116|             107|\n",
            "| 3308010|           115|             114|\n",
            "| 1991596|           114|              96|\n",
            "| 2753324|           114|              42|\n",
            "| 2499774|           112|              97|\n",
            "| 1994250|           112|               0|\n",
            "| 2621625|           109|              98|\n",
            "|   77151|           109|              63|\n",
            "| 1657096|           108|             101|\n",
            "| 2136777|           108|              55|\n",
            "| 1991706|           106|              94|\n",
            "| 2648316|           105|              51|\n",
            "| 1892299|           104|              82|\n",
            "+--------+--------------+----------------+\n",
            "only showing top 20 rows\n",
            "\n"
          ]
        }
      ]
    },
    {
      "cell_type": "markdown",
      "source": [
        "8 - ANÁLISE DE RECOMPRA(reorder) POR DEPARTAMENTO AO LONGO DO TEMPO"
      ],
      "metadata": {
        "id": "GFD2mC_lgf9G"
      }
    },
    {
      "cell_type": "code",
      "source": [
        "df_join_table\\\n",
        "  .groupBy(F.col('order_dow'), F.col('department'))\\\n",
        "  .agg(F.count(F.when(F.col('reordered') == 1, True)).alias('pedidos_refeitos'))\\\n",
        "  .orderBy(F.col('pedidos_refeitos').desc(), F.col('order_dow').asc()).show(20)"
      ],
      "metadata": {
        "colab": {
          "base_uri": "https://localhost:8080/"
        },
        "id": "kwJ7ZPUk-xRo",
        "outputId": "b1f74a51-f713-4e2f-f4b8-c4477c44ff08"
      },
      "execution_count": 66,
      "outputs": [
        {
          "output_type": "stream",
          "name": "stdout",
          "text": [
            "+---------+----------+----------------+\n",
            "|order_dow|department|pedidos_refeitos|\n",
            "+---------+----------+----------------+\n",
            "|        0|   produce|         1260369|\n",
            "|        1|   produce|         1106865|\n",
            "|        6|   produce|          855582|\n",
            "|        5|   produce|          780666|\n",
            "|        2|   produce|          779142|\n",
            "|        3|   produce|          696666|\n",
            "|        4|   produce|          691990|\n",
            "|        0|dairy eggs|          676672|\n",
            "|        1|dairy eggs|          654677|\n",
            "|        5|dairy eggs|          484258|\n",
            "|        6|dairy eggs|          483074|\n",
            "|        2|dairy eggs|          476445|\n",
            "|        3|dairy eggs|          429723|\n",
            "|        4|dairy eggs|          428786|\n",
            "|        1| beverages|          327532|\n",
            "|        1|    snacks|          324180|\n",
            "|        0| beverages|          279928|\n",
            "|        0|    snacks|          274975|\n",
            "|        5| beverages|          247211|\n",
            "|        2| beverages|          244375|\n",
            "+---------+----------+----------------+\n",
            "only showing top 20 rows\n",
            "\n"
          ]
        }
      ]
    },
    {
      "cell_type": "markdown",
      "source": [
        "9 - ANÁLISE DE REORDER E PEDIDOS - Pessoas que compram determinado produto e compram novamente."
      ],
      "metadata": {
        "id": "nQpE8gaegkhL"
      }
    },
    {
      "cell_type": "code",
      "source": [
        "df_join_table\\\n",
        "  .groupBy(F.col('user_id'))\\\n",
        "  .agg(F.count(F.col('reordered')).alias('pedidos_feitos'),F.count(F.when(F.col('reordered') == 1, True)).alias('pedidos_refeitos'))\\\n",
        "  .orderBy(F.col('pedidos_feitos').desc(),F.col('pedidos_refeitos').desc()).show(20)"
      ],
      "metadata": {
        "colab": {
          "base_uri": "https://localhost:8080/"
        },
        "id": "_2bCz2AvpZX2",
        "outputId": "e38aa38f-0eea-43fd-9b90-3d9b62b2de5d"
      },
      "execution_count": 69,
      "outputs": [
        {
          "output_type": "stream",
          "name": "stdout",
          "text": [
            "+-------+--------------+----------------+\n",
            "|user_id|pedidos_feitos|pedidos_refeitos|\n",
            "+-------+--------------+----------------+\n",
            "| 201268|          3725|            3275|\n",
            "| 129928|          3638|            3167|\n",
            "| 164055|          3061|            2657|\n",
            "| 186704|          2961|            2578|\n",
            "| 137629|          2924|            2642|\n",
            "| 176478|          2921|            2429|\n",
            "| 182401|          2907|            2181|\n",
            "|  33731|          2888|            2397|\n",
            "|   4694|          2781|            2232|\n",
            "| 108187|          2760|            2446|\n",
            "|  79106|          2631|            2220|\n",
            "|  17738|          2596|            2227|\n",
            "|  60694|          2579|            2059|\n",
            "|   5360|          2561|            2224|\n",
            "|  13701|          2547|            2129|\n",
            "|  72136|          2517|            2185|\n",
            "| 181991|          2463|            2169|\n",
            "|  57546|          2445|            2280|\n",
            "|  23832|          2429|            2156|\n",
            "|  52008|          2386|            1987|\n",
            "+-------+--------------+----------------+\n",
            "only showing top 20 rows\n",
            "\n"
          ]
        }
      ]
    },
    {
      "cell_type": "markdown",
      "source": [
        "10) ANÁLISE DE REORDER POR CORREDOR "
      ],
      "metadata": {
        "id": "Bq9xaF5AgpOM"
      }
    },
    {
      "cell_type": "code",
      "source": [
        "df_join_table\\\n",
        "  .groupBy(F.col('aisle'))\\\n",
        "  .agg(F.count(F.when(F.col('reordered') == 1, True)).alias('pedidos_refeitos'))\\\n",
        "  .orderBy(F.col('pedidos_refeitos').desc()).show(20)"
      ],
      "metadata": {
        "colab": {
          "base_uri": "https://localhost:8080/"
        },
        "id": "y_ALI9j8_bnM",
        "outputId": "f57f2da1-2663-4a51-efc5-ea70952f8ff5"
      },
      "execution_count": 70,
      "outputs": [
        {
          "output_type": "stream",
          "name": "stdout",
          "text": [
            "+--------------------+----------------+\n",
            "|               aisle|pedidos_refeitos|\n",
            "+--------------------+----------------+\n",
            "|        fresh fruits|         2620027|\n",
            "|    fresh vegetables|         2035567|\n",
            "|packaged vegetabl...|         1129116|\n",
            "|              yogurt|          998775|\n",
            "|                milk|          697484|\n",
            "|water seltzer spa...|          615117|\n",
            "|     packaged cheese|          574427|\n",
            "|     soy lactosefree|          442778|\n",
            "|      chips pretzels|          426154|\n",
            "|               bread|          392638|\n",
            "|        refrigerated|          382619|\n",
            "|                eggs|          319478|\n",
            "|      frozen produce|          283568|\n",
            "| energy granola bars|          273380|\n",
            "|            crackers|          261638|\n",
            "|       ice cream ice|          245830|\n",
            "|          lunch meat|          240078|\n",
            "|         soft drinks|          228795|\n",
            "|   baby food formula|          226153|\n",
            "|               cream|          218235|\n",
            "+--------------------+----------------+\n",
            "only showing top 20 rows\n",
            "\n"
          ]
        }
      ]
    },
    {
      "cell_type": "markdown",
      "source": [
        "11 - ANÁLISE DE REORDER POR CORREDOR - Total de Reorder por Corredor de Produtos Conseguimos ver os corredores que menos tiverem novos pedidos, e aqueles que tiveram mais novos pedidos."
      ],
      "metadata": {
        "id": "lJ2dgi67g3nO"
      }
    },
    {
      "cell_type": "code",
      "source": [
        "df_join_table\\\n",
        "  .groupBy(F.col('aisle'))\\\n",
        "  .agg(F.count(F.when(F.col('reordered') == 1, True)).alias('pedidos_refeitos'))\\\n",
        "  .orderBy(F.col('pedidos_refeitos').desc()).show(20)"
      ],
      "metadata": {
        "id": "ChOF_2ydv56Z",
        "colab": {
          "base_uri": "https://localhost:8080/"
        },
        "outputId": "38a849ae-5bd6-49dd-af6c-b9ec2b124cc6"
      },
      "execution_count": 71,
      "outputs": [
        {
          "output_type": "stream",
          "name": "stdout",
          "text": [
            "+--------------------+----------------+\n",
            "|               aisle|pedidos_refeitos|\n",
            "+--------------------+----------------+\n",
            "|        fresh fruits|         2620027|\n",
            "|    fresh vegetables|         2035567|\n",
            "|packaged vegetabl...|         1129116|\n",
            "|              yogurt|          998775|\n",
            "|                milk|          697484|\n",
            "|water seltzer spa...|          615117|\n",
            "|     packaged cheese|          574427|\n",
            "|     soy lactosefree|          442778|\n",
            "|      chips pretzels|          426154|\n",
            "|               bread|          392638|\n",
            "|        refrigerated|          382619|\n",
            "|                eggs|          319478|\n",
            "|      frozen produce|          283568|\n",
            "| energy granola bars|          273380|\n",
            "|            crackers|          261638|\n",
            "|       ice cream ice|          245830|\n",
            "|          lunch meat|          240078|\n",
            "|         soft drinks|          228795|\n",
            "|   baby food formula|          226153|\n",
            "|               cream|          218235|\n",
            "+--------------------+----------------+\n",
            "only showing top 20 rows\n",
            "\n"
          ]
        }
      ]
    }
  ]
}