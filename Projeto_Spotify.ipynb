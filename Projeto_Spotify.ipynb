{
  "nbformat": 4,
  "nbformat_minor": 0,
  "metadata": {
    "colab": {
      "provenance": [],
      "include_colab_link": true
    },
    "kernelspec": {
      "name": "python3",
      "display_name": "Python 3"
    },
    "language_info": {
      "name": "python"
    }
  },
  "cells": [
    {
      "cell_type": "markdown",
      "metadata": {
        "id": "view-in-github",
        "colab_type": "text"
      },
      "source": [
        "<a href=\"https://colab.research.google.com/github/nubialmeida/Projeto-Pyspark/blob/main/Projeto_Spotify.ipynb\" target=\"_parent\"><img src=\"https://colab.research.google.com/assets/colab-badge.svg\" alt=\"Open In Colab\"/></a>"
      ]
    },
    {
      "cell_type": "markdown",
      "source": [
        "##Instalação de bibliotecas"
      ],
      "metadata": {
        "id": "HuDIvRSRL1Na"
      }
    },
    {
      "cell_type": "code",
      "execution_count": null,
      "metadata": {
        "colab": {
          "base_uri": "https://localhost:8080/"
        },
        "id": "Bsk4pk7DqCsz",
        "outputId": "ad52fef0-cc4f-4a5c-ed1c-ae11cd1b3eaa"
      },
      "outputs": [
        {
          "output_type": "stream",
          "name": "stdout",
          "text": [
            "Looking in indexes: https://pypi.org/simple, https://us-python.pkg.dev/colab-wheels/public/simple/\n",
            "Collecting pyspark\n",
            "  Downloading pyspark-3.4.0.tar.gz (310.8 MB)\n",
            "\u001b[2K     \u001b[90m━━━━━━━━━━━━━━━━━━━━━━━━━━━━━━━━━━━━━━━\u001b[0m \u001b[32m310.8/310.8 MB\u001b[0m \u001b[31m4.2 MB/s\u001b[0m eta \u001b[36m0:00:00\u001b[0m\n",
            "\u001b[?25h  Preparing metadata (setup.py) ... \u001b[?25l\u001b[?25hdone\n",
            "Requirement already satisfied: py4j==0.10.9.7 in /usr/local/lib/python3.9/dist-packages (from pyspark) (0.10.9.7)\n",
            "Building wheels for collected packages: pyspark\n",
            "  Building wheel for pyspark (setup.py) ... \u001b[?25l\u001b[?25hdone\n",
            "  Created wheel for pyspark: filename=pyspark-3.4.0-py2.py3-none-any.whl size=311317145 sha256=11faca74d09eac86cb82afe7c6091a4013ed337c860dc8f7dc944b57a0a235f6\n",
            "  Stored in directory: /root/.cache/pip/wheels/9f/34/a4/159aa12d0a510d5ff7c8f0220abbea42e5d81ecf588c4fd884\n",
            "Successfully built pyspark\n",
            "Installing collected packages: pyspark\n",
            "Successfully installed pyspark-3.4.0\n"
          ]
        }
      ],
      "source": [
        "!pip install pyspark"
      ]
    },
    {
      "cell_type": "markdown",
      "source": [
        "##Importação de bibliotecas"
      ],
      "metadata": {
        "id": "21j5GFwaL4RT"
      }
    },
    {
      "cell_type": "code",
      "source": [
        "from pyspark.sql import SparkSession\n",
        "import pyspark.sql.functions as F\n",
        "import pandas as pd\n",
        "import numpy as np\n",
        "from pyspark.sql.types import IntegerType, FloatType, DoubleType"
      ],
      "metadata": {
        "id": "s4Upl8P8qTx6"
      },
      "execution_count": null,
      "outputs": []
    },
    {
      "cell_type": "markdown",
      "source": [
        "##Montando drive"
      ],
      "metadata": {
        "id": "wKFANikpMAuj"
      }
    },
    {
      "cell_type": "code",
      "source": [
        "from google.colab import drive\n",
        "drive.mount('/content/drive')"
      ],
      "metadata": {
        "colab": {
          "base_uri": "https://localhost:8080/"
        },
        "id": "3KNTfW9UK3SV",
        "outputId": "78b294ee-940a-4e09-cb77-9b0ec17222d4"
      },
      "execution_count": null,
      "outputs": [
        {
          "output_type": "stream",
          "name": "stdout",
          "text": [
            "Mounted at /content/drive\n"
          ]
        }
      ]
    },
    {
      "cell_type": "markdown",
      "source": [
        "##Iniciando a sessão"
      ],
      "metadata": {
        "id": "2t3ur-NuMFMe"
      }
    },
    {
      "cell_type": "code",
      "source": [
        "spark = (SparkSession.builder\n",
        "                     .master('local')\n",
        "                     .appName('spotify')\n",
        "                     .config('spark.ui.port', '4050')\n",
        "                     .getOrCreate())"
      ],
      "metadata": {
        "id": "pKq7Yv5AqpuQ"
      },
      "execution_count": null,
      "outputs": []
    },
    {
      "cell_type": "markdown",
      "source": [
        "##Extração dos dados(Extract)"
      ],
      "metadata": {
        "id": "0BJkbNzaLnp9"
      }
    },
    {
      "cell_type": "code",
      "source": [
        "df = (spark.read\n",
        "           .format('csv')\n",
        "           .option('delimiter', ',')\n",
        "           .option('header', 'true')\n",
        "           .option('inferschema', 'true')\n",
        "           .option('encoding', 'utf-8')\n",
        "           .option('escape','\"')\n",
        "           .load('/content/drive/MyDrive/TI/spotify.csv')\n",
        "           )"
      ],
      "metadata": {
        "id": "oXbeae3lrBGb"
      },
      "execution_count": null,
      "outputs": []
    },
    {
      "cell_type": "code",
      "source": [
        "spark"
      ],
      "metadata": {
        "colab": {
          "base_uri": "https://localhost:8080/",
          "height": 219
        },
        "id": "BRO6hdywMQZc",
        "outputId": "a8048292-b859-4c06-c130-35947986c77a"
      },
      "execution_count": null,
      "outputs": [
        {
          "output_type": "execute_result",
          "data": {
            "text/plain": [
              "<pyspark.sql.session.SparkSession at 0x7f1baae13b80>"
            ],
            "text/html": [
              "\n",
              "            <div>\n",
              "                <p><b>SparkSession - in-memory</b></p>\n",
              "                \n",
              "        <div>\n",
              "            <p><b>SparkContext</b></p>\n",
              "\n",
              "            <p><a href=\"http://00b7c16c30b6:4050\">Spark UI</a></p>\n",
              "\n",
              "            <dl>\n",
              "              <dt>Version</dt>\n",
              "                <dd><code>v3.4.0</code></dd>\n",
              "              <dt>Master</dt>\n",
              "                <dd><code>local</code></dd>\n",
              "              <dt>AppName</dt>\n",
              "                <dd><code>spotify</code></dd>\n",
              "            </dl>\n",
              "        </div>\n",
              "        \n",
              "            </div>\n",
              "        "
            ]
          },
          "metadata": {},
          "execution_count": 69
        }
      ]
    },
    {
      "cell_type": "markdown",
      "source": [
        "##Pré Análise"
      ],
      "metadata": {
        "id": "MQKtkWHMLvVd"
      }
    },
    {
      "cell_type": "code",
      "source": [
        "df.printSchema() #Verificando os tipos do DF"
      ],
      "metadata": {
        "colab": {
          "base_uri": "https://localhost:8080/"
        },
        "id": "y5CWCAHirgE8",
        "outputId": "9a4a9956-9e71-4444-9fcd-b4d76a2327b6"
      },
      "execution_count": null,
      "outputs": [
        {
          "output_type": "stream",
          "name": "stdout",
          "text": [
            "root\n",
            " |-- _c0: integer (nullable = true)\n",
            " |-- song_name: string (nullable = true)\n",
            " |-- song_popularity: string (nullable = true)\n",
            " |-- song_duration_ms: string (nullable = true)\n",
            " |-- acousticness: string (nullable = true)\n",
            " |-- danceability: string (nullable = true)\n",
            " |-- energy: string (nullable = true)\n",
            " |-- instrumentalness: string (nullable = true)\n",
            " |-- key: integer (nullable = true)\n",
            " |-- liveness: string (nullable = true)\n",
            " |-- loudness: string (nullable = true)\n",
            " |-- audio_mode: string (nullable = true)\n",
            " |-- speechiness: string (nullable = true)\n",
            " |-- tempo: string (nullable = true)\n",
            " |-- time_signature: string (nullable = true)\n",
            " |-- audio_valence: string (nullable = true)\n",
            "\n"
          ]
        }
      ]
    },
    {
      "cell_type": "code",
      "source": [
        "print(f'({df.count()}, {len(df.columns)})')#Verificando a contagem de linhas e colunas"
      ],
      "metadata": {
        "colab": {
          "base_uri": "https://localhost:8080/"
        },
        "id": "7NWfj850rjPl",
        "outputId": "384c6a1f-9267-42d2-f050-bdf4acf9d2a3"
      },
      "execution_count": null,
      "outputs": [
        {
          "output_type": "stream",
          "name": "stdout",
          "text": [
            "(18835, 16)\n"
          ]
        }
      ]
    },
    {
      "cell_type": "code",
      "source": [
        "df.show(truncate=False) #Verificando o DF"
      ],
      "metadata": {
        "colab": {
          "base_uri": "https://localhost:8080/"
        },
        "id": "U67XIKfErh-7",
        "outputId": "738e59b0-255b-474a-d40f-d465f4fb866f"
      },
      "execution_count": null,
      "outputs": [
        {
          "output_type": "stream",
          "name": "stdout",
          "text": [
            "+---+--------------------------+---------------+----------------+----------------------+-----------------------+---------------------+---------------------+---+----------------------+-----------------------+----------+----------------------+-------+--------------+---------------------+\n",
            "|_c0|song_name                 |song_popularity|song_duration_ms|acousticness          |danceability           |energy               |instrumentalness     |key|liveness              |loudness               |audio_mode|speechiness           |tempo  |time_signature|audio_valence        |\n",
            "+---+--------------------------+---------------+----------------+----------------------+-----------------------+---------------------+---------------------+---+----------------------+-----------------------+----------+----------------------+-------+--------------+---------------------+\n",
            "|0  |Boulevard of Broken Dreams|73             |262333          |0.005520000000000001kg|0.496mol/L             |682                  |2.94e-05             |8  |589                   |-4.095                 |1         |294                   |167.06 |4             |474                  |\n",
            "|1  |In The End                |66             |216933          |0.0103kg              |0.542mol/L             |853                  |0.0                  |3  |108                   |-6.407                 |0         |498                   |105.256|4             |0.37                 |\n",
            "|2  |Seven Nation Army         |76             |231733          |0.00817kg             |0.737mol/L             |463                  |447                  |0  |255                   |-78.279.999.999.999.900|1         |792                   |123.881|4             |324                  |\n",
            "|3  |By The Way                |74             |216933          |0.0264kg              |0.451mol/L             |0.97                 |355                  |0  |102                   |-4.938                 |1         |107                   |122.444|4             |198                  |\n",
            "|4  |How You Remind Me         |56             |223826          |0.000954kg            |0.447mol/L             |7.659.999.999.999.990|0.0                  |10 |113                   |-5.065                 |1         |313                   |172.011|4             |574                  |\n",
            "|5  |Bring Me To Life          |80             |235893          |0.00895kg             |0.316mol/L             |945                  |1.85e-06             |4  |396                   |-3.169                 |0         |124                   |189.931|4             |0.32                 |\n",
            "|6  |Last Resort               |81             |199893          |0.000504kg            |0.581mol/L             |887                  |111                  |4  |268                   |-3.659                 |0         |624                   |90.578 |4             |7.240.000.000.000.000|\n",
            "|7  |Are You Gonna Be My Girl  |76             |213800          |0.00148kg             |0.613mol/L             |953                  |582                  |2  |152                   |-3.435                 |1         |855                   |105.046|4             |537                  |\n",
            "|8  |Mr. Brightside            |80             |222586          |0.00108kg             |0.33mol/L              |936                  |0.0                  |1  |926                   |-3.66                  |1         |917                   |148.112|4             |234                  |\n",
            "|9  |Sex on Fire               |81             |203346          |0.00172kg             |0.542mol/L             |905                  |104                  |9  |136                   |-5.653                 |1         |54.000.000.000.000.000|153.398|4             |374                  |\n",
            "|10 |The Middle                |78             |168253          |0.0424kg              |0.629mol/L             |897                  |0.0                  |2  |263                   |-3.401                 |1         |483                   |161.944|4             |0.93                 |\n",
            "|11 |Numb                      |63             |185586          |0.0046kg              |0.496mol/L             |863                  |0.0                  |9  |639                   |-41.530.000.000.000.000|1         |381                   |110.018|4             |243                  |\n",
            "|12 |Smooth Criminal           |75             |209266          |0.00434kg             |0.647mol/L             |964                  |36                   |9  |0.15                  |-4.225                 |0         |0.06                  |126.942|4             |875                  |\n",
            "|13 |Can't Stop                |81             |269000          |0.0179kg              |0.618mol/L             |938                  |0.0                  |9  |16.699.999.999.999.900|-3.442                 |1         |456                   |91.455 |4             |875                  |\n",
            "|14 |Chop Suey!                |69             |210240          |0.000353kg            |0.42mol/L              |929                  |7.469.999.999.999.990|7  |122                   |-3.899                 |0         |121                   |127.204|4             |0.3                  |\n",
            "|15 |Take Me Out               |77             |237026          |0.000423kg            |0.278mol/L             |6.759.999.999.999.990|8.990.000.000.000.000|9  |136                   |-8.821                 |1         |371                   |104.545|4             |494                  |\n",
            "|16 |I Miss You                |71             |227240          |0.00136kg             |0.659mol/L             |778                  |6.79e-06             |11 |841                   |-6.422.999.999.999.990 |1         |379                   |110.022|4             |623                  |\n",
            "|17 |Best of You               |62             |256600          |0.00701kg             |0.37mol/L              |944                  |2.9e-06              |1  |135                   |-4.979                 |0         |767                   |130.315|4             |345                  |\n",
            "|18 |I Write Sins Not Tragedies|77             |187613          |0.0938kg              |0.5670000000000001mol/L|795                  |0.0                  |9  |114                   |-4.985                 |0         |134                   |170.06 |4             |635                  |\n",
            "|19 |Kryptonite                |79             |233933          |0.006640000000000001kg|0.545mol/L             |865                  |1.12e-05             |11 |168                   |-5.707.999.999.999.990 |0         |286                   |99.01  |4             |5.429.999.999.999.990|\n",
            "+---+--------------------------+---------------+----------------+----------------------+-----------------------+---------------------+---------------------+---+----------------------+-----------------------+----------+----------------------+-------+--------------+---------------------+\n",
            "only showing top 20 rows\n",
            "\n"
          ]
        }
      ]
    },
    {
      "cell_type": "code",
      "source": [
        "#Quantidade de registros do dataframe\n",
        "qtd_registros = df.count()"
      ],
      "metadata": {
        "id": "85lUne5Qtyy0"
      },
      "execution_count": null,
      "outputs": []
    },
    {
      "cell_type": "code",
      "source": [
        "df.drop(F.col('_c0')).filter(F.col('song_name') == 'TEST DRIVE').drop_duplicates().show(truncate=False)"
      ],
      "metadata": {
        "colab": {
          "base_uri": "https://localhost:8080/"
        },
        "id": "6JhCSoK-yi63",
        "outputId": "23dba662-ebc5-491a-cb40-4ecc5ae85d1b"
      },
      "execution_count": null,
      "outputs": [
        {
          "output_type": "stream",
          "name": "stdout",
          "text": [
            "+----------+---------------+----------------+------------+-----------------------+------+----------------+---+--------+--------+----------+-----------+---------------------+--------------+-------------+\n",
            "|song_name |song_popularity|song_duration_ms|acousticness|danceability           |energy|instrumentalness|key|liveness|loudness|audio_mode|speechiness|tempo                |time_signature|audio_valence|\n",
            "+----------+---------------+----------------+------------+-----------------------+------+----------------+---+--------+--------+----------+-----------+---------------------+--------------+-------------+\n",
            "|TEST DRIVE|71             |179423          |0.71kg      |0.6459999999999999mol/L|648   |316             |3  |108     |-8.602  |1         |372        |7.500.399.999.999.990|4             |466          |\n",
            "+----------+---------------+----------------+------------+-----------------------+------+----------------+---+--------+--------+----------+-----------+---------------------+--------------+-------------+\n",
            "\n"
          ]
        }
      ]
    },
    {
      "cell_type": "code",
      "source": [
        "df.select('song_name').distinct().count()"
      ],
      "metadata": {
        "colab": {
          "base_uri": "https://localhost:8080/"
        },
        "id": "jfiLUScWvXTi",
        "outputId": "902e09d6-e876-4974-dd99-3630635c1d6b"
      },
      "execution_count": null,
      "outputs": [
        {
          "output_type": "execute_result",
          "data": {
            "text/plain": [
              "13070"
            ]
          },
          "metadata": {},
          "execution_count": 75
        }
      ]
    },
    {
      "cell_type": "code",
      "source": [
        "#Verificando se existe algum duplicado\n",
        "qtd_sem_duplicados = df.drop(F.col('_c0')).drop_duplicates().count()"
      ],
      "metadata": {
        "id": "Oj3PTHIut50n"
      },
      "execution_count": null,
      "outputs": []
    },
    {
      "cell_type": "code",
      "source": [
        "total_duplicados = qtd_registros - qtd_sem_duplicados"
      ],
      "metadata": {
        "id": "rDX0WOYDu3Ij"
      },
      "execution_count": null,
      "outputs": []
    },
    {
      "cell_type": "code",
      "source": [
        "print(f'Total de linhas duplicadas: {total_duplicados}')"
      ],
      "metadata": {
        "colab": {
          "base_uri": "https://localhost:8080/"
        },
        "id": "Yrj7xadzu9gb",
        "outputId": "c201aafe-bb80-43c1-d9bf-8dc6dcfcff13"
      },
      "execution_count": null,
      "outputs": [
        {
          "output_type": "stream",
          "name": "stdout",
          "text": [
            "Total de linhas duplicadas: 3903\n"
          ]
        }
      ]
    },
    {
      "cell_type": "code",
      "source": [
        "df = df.drop(F.col('_c0'))"
      ],
      "metadata": {
        "id": "DnFfFSdPzLpM"
      },
      "execution_count": null,
      "outputs": []
    },
    {
      "cell_type": "code",
      "source": [
        "#Removendo valores duplicados\n",
        "df = df.drop_duplicates()"
      ],
      "metadata": {
        "id": "FyfMICi6zUga"
      },
      "execution_count": null,
      "outputs": []
    },
    {
      "cell_type": "code",
      "source": [
        "df.count()"
      ],
      "metadata": {
        "colab": {
          "base_uri": "https://localhost:8080/"
        },
        "id": "M043HV0azZ6e",
        "outputId": "c362a485-0b4e-445e-ceb5-2dfed65fc8d4"
      },
      "execution_count": null,
      "outputs": [
        {
          "output_type": "execute_result",
          "data": {
            "text/plain": [
              "14932"
            ]
          },
          "metadata": {},
          "execution_count": 81
        }
      ]
    },
    {
      "cell_type": "code",
      "source": [
        "df.show(truncate=False)"
      ],
      "metadata": {
        "colab": {
          "base_uri": "https://localhost:8080/"
        },
        "id": "hhpyGlI7zjek",
        "outputId": "642f8a8d-5df6-469b-ceee-df9147c76414"
      },
      "execution_count": null,
      "outputs": [
        {
          "output_type": "stream",
          "name": "stdout",
          "text": [
            "+----------------------------------------+---------------+----------------+-----------------------+-----------------------+---------------------+---------------------+---+----------------------+-----------------------+----------+-----------+----------------------+--------------+----------------------+\n",
            "|song_name                               |song_popularity|song_duration_ms|acousticness           |danceability           |energy               |instrumentalness     |key|liveness              |loudness               |audio_mode|speechiness|tempo                 |time_signature|audio_valence         |\n",
            "+----------------------------------------+---------------+----------------+-----------------------+-----------------------+---------------------+---------------------+---+----------------------+-----------------------+----------+-----------+----------------------+--------------+----------------------+\n",
            "|Lambada - Original Version 1989         |67             |207466          |0.211kg                |0.7559999999999999mol/L|0.8                  |723                  |5  |47                    |-5.158                 |1         |329        |118.921               |4             |967                   |\n",
            "|Losing My Religion                      |28             |267733          |0.0767kg               |0.672mol/L             |841                  |0.0                  |9  |135                   |-5.992.000.000.000.000 |0         |285        |125.437               |4             |0.82                  |\n",
            "|Love The Way You Lie                    |20             |158146          |0.188kg                |0.4370000000000001mol/L|878                  |0.0                  |10 |35.100.000.000.000.000|-3.876                 |1         |396        |7.947.399.999.999.990 |4             |621                   |\n",
            "|Shake, Rattle And Roll                  |59             |150466          |0.159kg                |0.6709999999999999mol/L|679                  |0.0                  |5  |158                   |-11.237                |1         |142        |166.726               |4             |0.82                  |\n",
            "|This Old Heart Of Mine (Is Weak For You)|19             |164960          |0.236kg                |0.63mol/L              |644                  |0.0                  |5  |265                   |-63.210.000.000.000.000|1         |29         |131.593               |4             |926                   |\n",
            "|Careless Whisper                        |68             |302600          |0.232kg                |0.583mol/L             |545                  |0.0                  |2  |133                   |-11.698                |0         |351        |153.25                |4             |0.8                   |\n",
            "|Walk Of Life                            |38             |249960          |0.405kg                |0.461mol/L             |918                  |33                   |4  |126                   |-8.507                 |1         |959        |172.435               |4             |802                   |\n",
            "|The Morning                             |72             |312426          |0.317kg                |0.652mol/L             |5.489.999.999.999.990|0.0                  |6  |104                   |-7.555                 |0         |39         |120.073               |4             |18.600.000.000.000.000|\n",
            "|Balloons                                |43             |180666          |0.0826kg               |0.5820000000000001mol/L|984                  |153                  |9  |713                   |-1.962                 |0         |529        |15.394.299.999.999.900|4             |7.709.999.999.999.990 |\n",
            "|Echo Beach                              |58             |219866          |0.13kg                 |0.54mol/L              |746                  |8.73e-06             |7  |976                   |-9.412                 |1         |45         |163.809               |4             |826                   |\n",
            "|I Want Candy                            |42             |161933          |0.0026100000000000003kg|0.674mol/L             |797                  |358                  |7  |832                   |-8.205                 |1         |807        |110.062               |4             |688                   |\n",
            "|Teardrop                                |70             |330773          |0.0173kg               |0.615mol/L             |419                  |4.970.000.000.000.000|11 |135                   |-8.8                   |0         |395        |76.997                |4             |21.600.000.000.000.000|\n",
            "|Napkins                                 |63             |215625          |0.431kg                |0.747mol/L             |444                  |1.25e-06             |0  |106                   |-8.976                 |0         |386        |144.138               |4             |0.66                  |\n",
            "|Erase                                   |63             |236794          |0.688kg                |0.657mol/L             |376                  |2.54e-05             |9  |272                   |-6.534                 |1         |463        |84.905                |4             |575                   |\n",
            "|Medicine                                |28             |223259          |0.206kg                |0.611mol/L             |412                  |0.0                  |8  |0.1                   |-7.445                 |0         |202        |116.078               |4             |116                   |\n",
            "|Wide World                              |19             |213540          |0.899kg                |0.547mol/L             |693                  |121                  |11 |705                   |-7.18                  |0         |286        |168.093               |4             |634                   |\n",
            "|Reminder - Remix                        |65             |221968          |0.149kg                |0.745mol/L             |0.65                 |0.0                  |0  |107                   |-5.992.000.000.000.000 |0         |227        |159.994               |4             |521                   |\n",
            "|I Get The Bag (feat. Migos)             |12             |233087          |0.0232kg               |0.89mol/L              |633                  |343                  |11 |993                   |-5.475                 |1         |168        |13.994.799.999.999.900|4             |425                   |\n",
            "|Sweet Soul Music                        |60             |141066          |0.104kg                |0.59mol/L              |659                  |6.56e-06             |5  |35.600.000.000.000.000|-9.669                 |1         |697        |8.020.100.000.000.000 |4             |965                   |\n",
            "|Envidia                                 |37             |189000          |0.8059999999999999kg   |0.618mol/L             |261                  |2.62e-05             |10 |92                    |-12.86                 |1         |358        |83.676                |4             |552                   |\n",
            "+----------------------------------------+---------------+----------------+-----------------------+-----------------------+---------------------+---------------------+---+----------------------+-----------------------+----------+-----------+----------------------+--------------+----------------------+\n",
            "only showing top 20 rows\n",
            "\n"
          ]
        }
      ]
    },
    {
      "cell_type": "code",
      "source": [
        "#Verificando Summary\n",
        "df.summary().show()"
      ],
      "metadata": {
        "colab": {
          "base_uri": "https://localhost:8080/"
        },
        "id": "a7QypE41z0hl",
        "outputId": "51c81318-320b-403a-9832-c388eb2d6410"
      },
      "execution_count": null,
      "outputs": [
        {
          "output_type": "stream",
          "name": "stdout",
          "text": [
            "+-------+--------------------+------------------+--------------------+------------+------------+------------------+------------------+------------------+------------------+------------------+------------------+------------------+------------------+--------------------+------------------+\n",
            "|summary|           song_name|   song_popularity|    song_duration_ms|acousticness|danceability|            energy|  instrumentalness|               key|          liveness|          loudness|        audio_mode|       speechiness|             tempo|      time_signature|     audio_valence|\n",
            "+-------+--------------------+------------------+--------------------+------------+------------+------------------+------------------+------------------+------------------+------------------+------------------+------------------+------------------+--------------------+------------------+\n",
            "|  count|               14932|             14932|               14932|       14932|       14932|             14932|             14932|             14932|             14932|             14932|             14932|             14932|             14932|               14932|             14931|\n",
            "|   mean|  1129.1927027027027| 48.75768535262206|-1.24075009321023...|        null|        0.36| 561.9800836174702|164.04899082378358|5.3124832574336995| 356.5487989103521| -8.23044986301368|0.6388721452012591|380.77141751865184|120.50111643379941|  187533.25394816152| 471.3430587135959|\n",
            "| stddev|   860.3999787393735|20.379617796732816|1.516370758100701E11|        null|        null|291.86382826990985|275.64384140340974|3.8580737829433662|304.91184959447065|23.169846851333855|0.9808890060852382|222.33194608052295| 28.07510847684067|2.2914668720862366E7|283.51723708524145|\n",
            "|    min|\"40\" - Live Versi...|                 0|     -18528908788662|  0.000101kg| 0.0594mol/L|               0.0|               0.0|                 0|            -8.575|             -0.79|                 0|               0.0|               0.0|                   0|               0.0|\n",
            "|    25%|               123.0|              37.0|            183935.0|        null|        0.36|             391.0|               0.0|                 2|             116.0|            -9.743|               0.0|             251.0|            99.562|                 4.0|             261.0|\n",
            "|    50%|              1412.0|              52.0|            211840.0|        null|        0.36|             607.0|           1.13E-5|                 5|             225.0|            -6.879|               1.0|             356.0|           119.959|                 4.0|             469.0|\n",
            "|    75%|              1975.0|              64.0|            244720.0|        null|        0.36|             799.0|             223.0|                 8|             612.0|            -4.895|               1.0|             499.0|           137.079|                 4.0|             695.0|\n",
            "|    max|          피 땀 눈물|           nao_sei|               99775|  9.85e-05kg|    0.9mol/L|           nao_sei|           nao_sei|               177|           nao_sei|           nao_sei|           nao_sei|               998|           nao_sei|             nao_sei|               997|\n",
            "+-------+--------------------+------------------+--------------------+------------+------------+------------------+------------------+------------------+------------------+------------------+------------------+------------------+------------------+--------------------+------------------+\n",
            "\n"
          ]
        }
      ]
    },
    {
      "cell_type": "code",
      "source": [
        "#Criando uma nova tabela com nome acustica e removendo kg da coluna acousticness \n",
        "df = df.withColumn('acousticness', F.regexp_replace('acousticness', 'kg', ''))"
      ],
      "metadata": {
        "id": "gXXgArmR2Oae"
      },
      "execution_count": null,
      "outputs": []
    },
    {
      "cell_type": "code",
      "source": [
        "df.show()"
      ],
      "metadata": {
        "colab": {
          "base_uri": "https://localhost:8080/"
        },
        "id": "i8X2aRpE6it1",
        "outputId": "e541d5d3-7ec7-480c-bbe1-9296d95cf572"
      },
      "execution_count": null,
      "outputs": [
        {
          "output_type": "stream",
          "name": "stdout",
          "text": [
            "+--------------------+---------------+----------------+--------------------+--------------------+--------------------+---+--------------------+--------------------+----------+-----------+--------------------+--------------+--------------------+--------------------+\n",
            "|           song_name|song_popularity|song_duration_ms|        danceability|              energy|    instrumentalness|key|            liveness|            loudness|audio_mode|speechiness|               tempo|time_signature|       audio_valence|            acustica|\n",
            "+--------------------+---------------+----------------+--------------------+--------------------+--------------------+---+--------------------+--------------------+----------+-----------+--------------------+--------------+--------------------+--------------------+\n",
            "|Lambada - Origina...|             67|          207466|0.755999999999999...|                 0.8|                 723|  5|                  47|              -5.158|         1|        329|             118.921|             4|                 967|               0.211|\n",
            "|  Losing My Religion|             28|          267733|          0.672mol/L|                 841|                 0.0|  9|                 135|-5.992.000.000.00...|         0|        285|             125.437|             4|                0.82|              0.0767|\n",
            "|Love The Way You Lie|             20|          158146|0.437000000000000...|                 878|                 0.0| 10|35.100.000.000.00...|              -3.876|         1|        396|7.947.399.999.999...|             4|                 621|               0.188|\n",
            "|Shake, Rattle And...|             59|          150466|0.670999999999999...|                 679|                 0.0|  5|                 158|             -11.237|         1|        142|             166.726|             4|                0.82|               0.159|\n",
            "|This Old Heart Of...|             19|          164960|           0.63mol/L|                 644|                 0.0|  5|                 265|-63.210.000.000.0...|         1|         29|             131.593|             4|                 926|               0.236|\n",
            "|    Careless Whisper|             68|          302600|          0.583mol/L|                 545|                 0.0|  2|                 133|             -11.698|         0|        351|              153.25|             4|                 0.8|               0.232|\n",
            "|        Walk Of Life|             38|          249960|          0.461mol/L|                 918|                  33|  4|                 126|              -8.507|         1|        959|             172.435|             4|                 802|               0.405|\n",
            "|         The Morning|             72|          312426|          0.652mol/L|5.489.999.999.999...|                 0.0|  6|                 104|              -7.555|         0|         39|             120.073|             4|18.600.000.000.00...|               0.317|\n",
            "|            Balloons|             43|          180666|0.582000000000000...|                 984|                 153|  9|                 713|              -1.962|         0|        529|15.394.299.999.99...|             4|7.709.999.999.999...|              0.0826|\n",
            "|          Echo Beach|             58|          219866|           0.54mol/L|                 746|            8.73e-06|  7|                 976|              -9.412|         1|         45|             163.809|             4|                 826|                0.13|\n",
            "|        I Want Candy|             42|          161933|          0.674mol/L|                 797|                 358|  7|                 832|              -8.205|         1|        807|             110.062|             4|                 688|0.002610000000000...|\n",
            "|            Teardrop|             70|          330773|          0.615mol/L|                 419|4.970.000.000.000...| 11|                 135|                -8.8|         0|        395|              76.997|             4|21.600.000.000.00...|              0.0173|\n",
            "|             Napkins|             63|          215625|          0.747mol/L|                 444|            1.25e-06|  0|                 106|              -8.976|         0|        386|             144.138|             4|                0.66|               0.431|\n",
            "|               Erase|             63|          236794|          0.657mol/L|                 376|            2.54e-05|  9|                 272|              -6.534|         1|        463|              84.905|             4|                 575|               0.688|\n",
            "|            Medicine|             28|          223259|          0.611mol/L|                 412|                 0.0|  8|                 0.1|              -7.445|         0|        202|             116.078|             4|                 116|               0.206|\n",
            "|          Wide World|             19|          213540|          0.547mol/L|                 693|                 121| 11|                 705|               -7.18|         0|        286|             168.093|             4|                 634|               0.899|\n",
            "|    Reminder - Remix|             65|          221968|          0.745mol/L|                0.65|                 0.0|  0|                 107|-5.992.000.000.00...|         0|        227|             159.994|             4|                 521|               0.149|\n",
            "|I Get The Bag (fe...|             12|          233087|           0.89mol/L|                 633|                 343| 11|                 993|              -5.475|         1|        168|13.994.799.999.99...|             4|                 425|              0.0232|\n",
            "|    Sweet Soul Music|             60|          141066|           0.59mol/L|                 659|            6.56e-06|  5|35.600.000.000.00...|              -9.669|         1|        697|8.020.100.000.000...|             4|                 965|               0.104|\n",
            "|             Envidia|             37|          189000|          0.618mol/L|                 261|            2.62e-05| 10|                  92|              -12.86|         1|        358|              83.676|             4|                 552|  0.8059999999999999|\n",
            "+--------------------+---------------+----------------+--------------------+--------------------+--------------------+---+--------------------+--------------------+----------+-----------+--------------------+--------------+--------------------+--------------------+\n",
            "only showing top 20 rows\n",
            "\n"
          ]
        }
      ]
    },
    {
      "cell_type": "code",
      "source": [
        "# Removendo o mol/L da coluna danceability\n",
        "df = df.withColumn('danceability', F.regexp_replace('danceability', 'mol/L', ''))"
      ],
      "metadata": {
        "id": "GtaEf-ZP6nR0"
      },
      "execution_count": null,
      "outputs": []
    },
    {
      "cell_type": "code",
      "source": [
        "df.select('song_popularity').summary().show()"
      ],
      "metadata": {
        "colab": {
          "base_uri": "https://localhost:8080/"
        },
        "id": "nj_Z1pGv7AZb",
        "outputId": "ad7abfd8-32d9-4d94-8671-0a172a6e59dc"
      },
      "execution_count": null,
      "outputs": [
        {
          "output_type": "stream",
          "name": "stdout",
          "text": [
            "+-------+------------------+\n",
            "|summary|   song_popularity|\n",
            "+-------+------------------+\n",
            "|  count|             14932|\n",
            "|   mean| 48.75768535262206|\n",
            "| stddev|20.379617796732816|\n",
            "|    min|                 0|\n",
            "|    25%|              37.0|\n",
            "|    50%|              52.0|\n",
            "|    75%|              64.0|\n",
            "|    max|           nao_sei|\n",
            "+-------+------------------+\n",
            "\n"
          ]
        }
      ]
    },
    {
      "cell_type": "code",
      "source": [
        "#função que remove strings\n",
        "\n",
        "def remove_strings_inplace(df,palavra, colunas):\n",
        "    # itera sobre as colunas especificadas e aplica a transformação em cada uma\n",
        "    for column in colunas:\n",
        "        df = df.withColumn(column, F.regexp_replace(F.col(column), palavra, \"\"))\n",
        "    return df\n",
        "#chama a função passando de parâmetro o df e a lista criada"
      ],
      "metadata": {
        "id": "QmU2RqLTP-vf"
      },
      "execution_count": null,
      "outputs": []
    },
    {
      "cell_type": "code",
      "source": [
        "colunas = df.columns"
      ],
      "metadata": {
        "id": "rdhG1rjcAKas"
      },
      "execution_count": null,
      "outputs": []
    },
    {
      "cell_type": "code",
      "source": [
        "df = remove_strings_inplace(df,'kg', colunas)"
      ],
      "metadata": {
        "id": "6XaW_dlzAHQp"
      },
      "execution_count": null,
      "outputs": []
    },
    {
      "cell_type": "code",
      "source": [
        "df = remove_strings_inplace(df,'mol/L', colunas)"
      ],
      "metadata": {
        "id": "pEN4V21-WYKq"
      },
      "execution_count": null,
      "outputs": []
    },
    {
      "cell_type": "code",
      "source": [
        "#Verificando os não_sei da coluna song_popularity\n",
        "df.filter(F.col('instrumentalness').contains('nao')).show()"
      ],
      "metadata": {
        "colab": {
          "base_uri": "https://localhost:8080/"
        },
        "id": "RgRvGdwkJWhp",
        "outputId": "926eed0b-e5db-40d5-95e7-056bd8bde8a3"
      },
      "execution_count": null,
      "outputs": [
        {
          "output_type": "stream",
          "name": "stdout",
          "text": [
            "+--------------------+---------------+----------------+------------+------------------+------+----------------+---+--------+--------------------+----------+-----------+------+--------------+-------------+\n",
            "|           song_name|song_popularity|song_duration_ms|acousticness|      danceability|energy|instrumentalness|key|liveness|            loudness|audio_mode|speechiness| tempo|time_signature|audio_valence|\n",
            "+--------------------+---------------+----------------+------------+------------------+------+----------------+---+--------+--------------------+----------+-----------+------+--------------+-------------+\n",
            "|     Sunny Came Home|             62|          264200|       0.344|0.5539999999999999|  0.58|         nao_sei| 11|     989|               -8.05|         0|        322|167.83|             4|          402|\n",
            "|Love Will Tear Us...|             60|          223340|       0.951|             0.375|   217|         nao_sei|  3|     107|-12.425.999.999.9...|         1|        344|96.239|             3|          139|\n",
            "+--------------------+---------------+----------------+------------+------------------+------+----------------+---+--------+--------------------+----------+-----------+------+--------------+-------------+\n",
            "\n"
          ]
        }
      ]
    },
    {
      "cell_type": "code",
      "source": [
        "df = df.replace('nao_sei', None)\n",
        "df = df.replace('0.nao_sei', None)\n",
        "df = df.dropna(how='any')"
      ],
      "metadata": {
        "id": "gx5St3FSMsGy"
      },
      "execution_count": null,
      "outputs": []
    },
    {
      "cell_type": "code",
      "source": [
        "#Verificando a quantidade de nulos no DF\n",
        "df.select([F.count(F.when(F.isnan(c) | F.col(c).isNull(), c)).alias(c) for c in df.columns]).show()"
      ],
      "metadata": {
        "colab": {
          "base_uri": "https://localhost:8080/"
        },
        "id": "trLfIPPC7UKb",
        "outputId": "dd283dd3-93c8-4b8d-a061-35fffd754ada"
      },
      "execution_count": null,
      "outputs": [
        {
          "output_type": "stream",
          "name": "stdout",
          "text": [
            "+---------+---------------+----------------+------------+------------+------+----------------+---+--------+--------+----------+-----------+-----+--------------+-------------+\n",
            "|song_name|song_popularity|song_duration_ms|acousticness|danceability|energy|instrumentalness|key|liveness|loudness|audio_mode|speechiness|tempo|time_signature|audio_valence|\n",
            "+---------+---------------+----------------+------------+------------+------+----------------+---+--------+--------+----------+-----------+-----+--------------+-------------+\n",
            "|        0|              0|               0|           0|           0|     0|               0|  0|       0|       0|         0|          0|    0|             0|            0|\n",
            "+---------+---------------+----------------+------------+------------+------+----------------+---+--------+--------+----------+-----------+-----+--------------+-------------+\n",
            "\n"
          ]
        }
      ]
    },
    {
      "cell_type": "code",
      "source": [
        "df.select(F.col('instrumentalness')).summary().show()"
      ],
      "metadata": {
        "colab": {
          "base_uri": "https://localhost:8080/"
        },
        "id": "E5ltySTLA3XQ",
        "outputId": "351d40b8-7f75-4195-87c2-e42fe64245f8"
      },
      "execution_count": null,
      "outputs": [
        {
          "output_type": "stream",
          "name": "stdout",
          "text": [
            "+-------+------------------+\n",
            "|summary|  instrumentalness|\n",
            "+-------+------------------+\n",
            "|  count|             14919|\n",
            "|   mean|164.09098902340065|\n",
            "| stddev|275.64426920379583|\n",
            "|    min|               0.0|\n",
            "|    25%|               0.0|\n",
            "|    50%|           1.14E-5|\n",
            "|    75%|             223.0|\n",
            "|    max|               999|\n",
            "+-------+------------------+\n",
            "\n"
          ]
        }
      ]
    },
    {
      "cell_type": "code",
      "source": [
        "df.select(F.col('instrumentalness')).orderBy(F.col('instrumentalness').desc()).show(500)"
      ],
      "metadata": {
        "colab": {
          "base_uri": "https://localhost:8080/"
        },
        "id": "An5OhyJePGT_",
        "outputId": "6174ca5e-3253-477c-ea30-09e7cc1c773d"
      },
      "execution_count": null,
      "outputs": [
        {
          "output_type": "stream",
          "name": "stdout",
          "text": [
            "+----------------+\n",
            "|instrumentalness|\n",
            "+----------------+\n",
            "|             999|\n",
            "|             998|\n",
            "|             998|\n",
            "|             998|\n",
            "|             997|\n",
            "|             997|\n",
            "|             996|\n",
            "|             995|\n",
            "|             994|\n",
            "|             994|\n",
            "|             994|\n",
            "|             992|\n",
            "|             992|\n",
            "|             991|\n",
            "|             991|\n",
            "|             991|\n",
            "|             991|\n",
            "|              99|\n",
            "|              99|\n",
            "|              99|\n",
            "|              99|\n",
            "|             989|\n",
            "|             989|\n",
            "|             989|\n",
            "|             989|\n",
            "|             989|\n",
            "|             989|\n",
            "|             988|\n",
            "|             987|\n",
            "|             987|\n",
            "|             986|\n",
            "|             986|\n",
            "|             986|\n",
            "|             986|\n",
            "|             985|\n",
            "|             984|\n",
            "|             984|\n",
            "|             984|\n",
            "|             983|\n",
            "|             983|\n",
            "|             982|\n",
            "|             982|\n",
            "|             982|\n",
            "|             981|\n",
            "|             981|\n",
            "|             979|\n",
            "|             979|\n",
            "|             978|\n",
            "|             978|\n",
            "|             978|\n",
            "|             978|\n",
            "|             978|\n",
            "|             977|\n",
            "|             977|\n",
            "|             977|\n",
            "|             977|\n",
            "|             977|\n",
            "|             977|\n",
            "|             976|\n",
            "|             976|\n",
            "|             975|\n",
            "|             975|\n",
            "|             975|\n",
            "|             974|\n",
            "|             974|\n",
            "|             973|\n",
            "|             973|\n",
            "|             973|\n",
            "|             972|\n",
            "|             972|\n",
            "|             972|\n",
            "|             971|\n",
            "|             971|\n",
            "|              97|\n",
            "|             969|\n",
            "|             969|\n",
            "|             969|\n",
            "|             969|\n",
            "|             968|\n",
            "|             968|\n",
            "|             968|\n",
            "|             968|\n",
            "|             968|\n",
            "|             968|\n",
            "|             968|\n",
            "|             968|\n",
            "|             968|\n",
            "|             968|\n",
            "|             967|\n",
            "|             967|\n",
            "|             967|\n",
            "|             967|\n",
            "|             966|\n",
            "|             966|\n",
            "|             966|\n",
            "|             966|\n",
            "|             966|\n",
            "|             966|\n",
            "|             966|\n",
            "|             966|\n",
            "|             965|\n",
            "|             965|\n",
            "|             965|\n",
            "|             965|\n",
            "|             965|\n",
            "|             965|\n",
            "|             965|\n",
            "|             964|\n",
            "|             964|\n",
            "|             964|\n",
            "|             963|\n",
            "|             963|\n",
            "|             963|\n",
            "|             962|\n",
            "|             962|\n",
            "|             962|\n",
            "|             962|\n",
            "|             962|\n",
            "|             962|\n",
            "|             961|\n",
            "|             961|\n",
            "|             961|\n",
            "|              96|\n",
            "|              96|\n",
            "|              96|\n",
            "|              96|\n",
            "|             959|\n",
            "|             959|\n",
            "|             959|\n",
            "|             959|\n",
            "|             959|\n",
            "|             959|\n",
            "|             959|\n",
            "|             958|\n",
            "|             958|\n",
            "|             958|\n",
            "|             958|\n",
            "|             958|\n",
            "|             958|\n",
            "|             957|\n",
            "|             957|\n",
            "|             957|\n",
            "|             957|\n",
            "|             956|\n",
            "|             956|\n",
            "|             956|\n",
            "|             956|\n",
            "|             956|\n",
            "|             955|\n",
            "|             955|\n",
            "|             955|\n",
            "|             955|\n",
            "|             955|\n",
            "|             955|\n",
            "|             954|\n",
            "|             954|\n",
            "|             954|\n",
            "|             954|\n",
            "|             954|\n",
            "|             954|\n",
            "|             954|\n",
            "|             954|\n",
            "|             953|\n",
            "|             953|\n",
            "|             953|\n",
            "|             953|\n",
            "|             953|\n",
            "|             953|\n",
            "|             953|\n",
            "|             953|\n",
            "|             953|\n",
            "|             952|\n",
            "|             952|\n",
            "|             952|\n",
            "|             952|\n",
            "|             952|\n",
            "|             952|\n",
            "|             952|\n",
            "|             952|\n",
            "|             952|\n",
            "|             952|\n",
            "|             951|\n",
            "|             951|\n",
            "|             951|\n",
            "|             951|\n",
            "|             951|\n",
            "|             949|\n",
            "|             949|\n",
            "|             949|\n",
            "|             949|\n",
            "|             949|\n",
            "|             949|\n",
            "|             949|\n",
            "|             949|\n",
            "|             949|\n",
            "|             949|\n",
            "|             948|\n",
            "|             948|\n",
            "|             948|\n",
            "|             948|\n",
            "|             948|\n",
            "|             948|\n",
            "|             948|\n",
            "|             948|\n",
            "|             948|\n",
            "|             947|\n",
            "|             947|\n",
            "|             947|\n",
            "|             947|\n",
            "|             947|\n",
            "|             947|\n",
            "|             946|\n",
            "|             946|\n",
            "|             946|\n",
            "|             946|\n",
            "|             946|\n",
            "|             946|\n",
            "|             946|\n",
            "|             945|\n",
            "|             945|\n",
            "|             945|\n",
            "|             945|\n",
            "|             945|\n",
            "|             945|\n",
            "|             945|\n",
            "|             945|\n",
            "|             945|\n",
            "|             945|\n",
            "|             944|\n",
            "|             944|\n",
            "|             944|\n",
            "|             944|\n",
            "|             944|\n",
            "|             944|\n",
            "|             944|\n",
            "|             944|\n",
            "|             944|\n",
            "|             944|\n",
            "|             944|\n",
            "|             944|\n",
            "|             944|\n",
            "|             944|\n",
            "|             943|\n",
            "|             943|\n",
            "|             943|\n",
            "|             943|\n",
            "|             943|\n",
            "|             943|\n",
            "|             943|\n",
            "|             943|\n",
            "|             943|\n",
            "|             943|\n",
            "|             942|\n",
            "|             942|\n",
            "|             942|\n",
            "|             941|\n",
            "|             941|\n",
            "|             941|\n",
            "|             941|\n",
            "|             939|\n",
            "|             939|\n",
            "|             939|\n",
            "|             939|\n",
            "|             939|\n",
            "|             939|\n",
            "|             938|\n",
            "|             938|\n",
            "|             938|\n",
            "|             938|\n",
            "|             938|\n",
            "|             938|\n",
            "|             938|\n",
            "|             938|\n",
            "|             938|\n",
            "|             937|\n",
            "|             937|\n",
            "|             937|\n",
            "|             937|\n",
            "|             937|\n",
            "|             937|\n",
            "|             937|\n",
            "|             937|\n",
            "|             936|\n",
            "|             936|\n",
            "|             936|\n",
            "|             936|\n",
            "|             936|\n",
            "|             936|\n",
            "|             936|\n",
            "|             936|\n",
            "|             935|\n",
            "|             935|\n",
            "|             935|\n",
            "|             935|\n",
            "|             935|\n",
            "|             935|\n",
            "|             934|\n",
            "|             934|\n",
            "|             934|\n",
            "|             934|\n",
            "|             934|\n",
            "|             934|\n",
            "|             934|\n",
            "|             933|\n",
            "|             933|\n",
            "|             933|\n",
            "|             933|\n",
            "|             933|\n",
            "|             933|\n",
            "|             933|\n",
            "|             933|\n",
            "|             933|\n",
            "|             933|\n",
            "|             933|\n",
            "|             932|\n",
            "|             932|\n",
            "|             932|\n",
            "|             932|\n",
            "|             932|\n",
            "|             932|\n",
            "|             932|\n",
            "|             932|\n",
            "|             932|\n",
            "|             931|\n",
            "|             931|\n",
            "|             931|\n",
            "|             931|\n",
            "|             931|\n",
            "|             931|\n",
            "|             931|\n",
            "|             931|\n",
            "|             931|\n",
            "|              93|\n",
            "|             929|\n",
            "|             929|\n",
            "|             929|\n",
            "|             929|\n",
            "|             929|\n",
            "|             929|\n",
            "|             929|\n",
            "|             928|\n",
            "|             928|\n",
            "|             928|\n",
            "|             928|\n",
            "|             928|\n",
            "|             928|\n",
            "|             927|\n",
            "|             927|\n",
            "|             927|\n",
            "|             927|\n",
            "|             927|\n",
            "|             927|\n",
            "|             927|\n",
            "|             927|\n",
            "|             926|\n",
            "|             926|\n",
            "|             926|\n",
            "|             926|\n",
            "|             926|\n",
            "|             926|\n",
            "|             926|\n",
            "|             926|\n",
            "|             926|\n",
            "|             926|\n",
            "|             926|\n",
            "|             925|\n",
            "|             925|\n",
            "|             925|\n",
            "|             925|\n",
            "|             925|\n",
            "|             925|\n",
            "|             924|\n",
            "|             924|\n",
            "|             924|\n",
            "|             924|\n",
            "|             924|\n",
            "|             924|\n",
            "|             924|\n",
            "|             923|\n",
            "|             923|\n",
            "|             923|\n",
            "|             923|\n",
            "|             922|\n",
            "|             922|\n",
            "|             922|\n",
            "|             922|\n",
            "|             922|\n",
            "|             922|\n",
            "|             922|\n",
            "|             922|\n",
            "|             922|\n",
            "|             922|\n",
            "|             922|\n",
            "|             922|\n",
            "|             921|\n",
            "|             921|\n",
            "|             921|\n",
            "|             921|\n",
            "|             921|\n",
            "|             921|\n",
            "|             921|\n",
            "|             921|\n",
            "|             921|\n",
            "|              92|\n",
            "|              92|\n",
            "|             919|\n",
            "|             919|\n",
            "|             919|\n",
            "|             919|\n",
            "|             919|\n",
            "|             919|\n",
            "|             919|\n",
            "|             919|\n",
            "|             919|\n",
            "|             919|\n",
            "|             919|\n",
            "|             918|\n",
            "|             918|\n",
            "|             918|\n",
            "|             918|\n",
            "|             918|\n",
            "|             918|\n",
            "|             918|\n",
            "|             918|\n",
            "|             917|\n",
            "|             917|\n",
            "|             917|\n",
            "|             917|\n",
            "|             917|\n",
            "|             917|\n",
            "|             917|\n",
            "|             916|\n",
            "|             916|\n",
            "|             916|\n",
            "|             916|\n",
            "|             916|\n",
            "|             916|\n",
            "|             916|\n",
            "|             916|\n",
            "|             915|\n",
            "|             915|\n",
            "|             915|\n",
            "|             915|\n",
            "|             915|\n",
            "|             915|\n",
            "|             915|\n",
            "|             915|\n",
            "|             915|\n",
            "|             915|\n",
            "|             914|\n",
            "|             914|\n",
            "|             914|\n",
            "|             914|\n",
            "|             914|\n",
            "|             914|\n",
            "|             914|\n",
            "|             914|\n",
            "|             914|\n",
            "|             914|\n",
            "|             914|\n",
            "|             914|\n",
            "|             914|\n",
            "|             913|\n",
            "|             913|\n",
            "|             913|\n",
            "|             913|\n",
            "|             913|\n",
            "|             913|\n",
            "|             913|\n",
            "|             913|\n",
            "|             913|\n",
            "|             913|\n",
            "|             913|\n",
            "|             913|\n",
            "|             913|\n",
            "|             913|\n",
            "|             912|\n",
            "|             912|\n",
            "|             912|\n",
            "|             912|\n",
            "|             912|\n",
            "|             912|\n",
            "|             912|\n",
            "|             912|\n",
            "|             911|\n",
            "|             911|\n",
            "|             911|\n",
            "|             911|\n",
            "|              91|\n",
            "|              91|\n",
            "|             909|\n",
            "|             909|\n",
            "|             909|\n",
            "|             909|\n",
            "|             909|\n",
            "|             909|\n",
            "|             909|\n",
            "|             909|\n",
            "|             909|\n",
            "|             909|\n",
            "+----------------+\n",
            "only showing top 500 rows\n",
            "\n"
          ]
        }
      ]
    },
    {
      "cell_type": "code",
      "source": [
        "df.select(F.col('instrumentalness')).withColumn('teste', F.col('instrumentalness').cast(DoubleType())).printSchema()"
      ],
      "metadata": {
        "colab": {
          "base_uri": "https://localhost:8080/"
        },
        "id": "kYYPFfV9QC2s",
        "outputId": "fa7a2531-cd6b-494c-d7ac-699a405f5d1d"
      },
      "execution_count": null,
      "outputs": [
        {
          "output_type": "stream",
          "name": "stdout",
          "text": [
            "root\n",
            " |-- instrumentalness: string (nullable = true)\n",
            " |-- teste: double (nullable = true)\n",
            "\n"
          ]
        }
      ]
    },
    {
      "cell_type": "code",
      "source": [
        "df.printSchema()"
      ],
      "metadata": {
        "colab": {
          "base_uri": "https://localhost:8080/"
        },
        "id": "vTEDNbHtDcyU",
        "outputId": "b0876a8e-b516-48c7-c09d-0ddb74629cb3"
      },
      "execution_count": null,
      "outputs": [
        {
          "output_type": "stream",
          "name": "stdout",
          "text": [
            "root\n",
            " |-- song_name: string (nullable = true)\n",
            " |-- song_popularity: string (nullable = true)\n",
            " |-- song_duration_ms: string (nullable = true)\n",
            " |-- acousticness: string (nullable = true)\n",
            " |-- danceability: string (nullable = true)\n",
            " |-- energy: string (nullable = true)\n",
            " |-- instrumentalness: string (nullable = true)\n",
            " |-- key: string (nullable = true)\n",
            " |-- liveness: string (nullable = true)\n",
            " |-- loudness: string (nullable = true)\n",
            " |-- audio_mode: string (nullable = true)\n",
            " |-- speechiness: string (nullable = true)\n",
            " |-- tempo: string (nullable = true)\n",
            " |-- time_signature: string (nullable = true)\n",
            " |-- audio_valence: string (nullable = true)\n",
            "\n"
          ]
        }
      ]
    },
    {
      "cell_type": "code",
      "source": [
        "#CONVERTER AS COLUNAS PARA INT E FLOAT\n",
        "df = (df.withColumn('song_popularity', F.col('song_popularity').cast(IntegerType()))\n",
        "   .withColumn('song_duration_ms', F.round(F.col('song_duration_ms').cast(IntegerType()), 2))\n",
        "   .withColumn('danceability', F.round(F.col('danceability').cast(FloatType()), 2))\n",
        "   .withColumn('energy', F.round(F.col('energy').cast(FloatType()), 2))\n",
        "   .withColumn('instrumentalness', F.round(F.col('instrumentalness').cast(FloatType()), 2))\n",
        "   .withColumn('key', F.round(F.col('key').cast(FloatType()), 2))\n",
        "   .withColumn('liveness', F.round(F.col('liveness').cast(FloatType()), 2))\n",
        "   .withColumn('loudness', F.round(F.col('loudness').cast(FloatType()), 2))\n",
        "   .withColumn('audio_mode', F.round(F.col('audio_mode').cast(IntegerType()), 2))\n",
        "   .withColumn('speechiness', F.round(F.col('speechiness').cast(FloatType()), 2))\n",
        "   .withColumn('tempo', F.round(F.col('tempo').cast(IntegerType()), 2))\n",
        "   .withColumn('time_signature', F.round(F.col('time_signature').cast(IntegerType()), 2))\n",
        "   .withColumn('audio_valence', F.round(F.col('audio_valence').cast(FloatType()), 2))\n",
        "   .withColumn('acustica', F.round(F.col('acustica').cast(FloatType()), 2))\n",
        ")"
      ],
      "metadata": {
        "id": "_X-UMx96CetT"
      },
      "execution_count": null,
      "outputs": []
    },
    {
      "cell_type": "code",
      "source": [
        "df.show()"
      ],
      "metadata": {
        "colab": {
          "base_uri": "https://localhost:8080/"
        },
        "id": "lW6KtTmzGMjO",
        "outputId": "0f1490b0-ddf3-44c5-c5ee-f1d9764acd05"
      },
      "execution_count": null,
      "outputs": [
        {
          "output_type": "stream",
          "name": "stdout",
          "text": [
            "+--------------------+---------------+----------------+--------------------+------------------+--------------------+--------------------+---+--------------------+--------------------+----------+-----------+--------------------+--------------+--------------------+\n",
            "|           song_name|song_popularity|song_duration_ms|        acousticness|      danceability|              energy|    instrumentalness|key|            liveness|            loudness|audio_mode|speechiness|               tempo|time_signature|       audio_valence|\n",
            "+--------------------+---------------+----------------+--------------------+------------------+--------------------+--------------------+---+--------------------+--------------------+----------+-----------+--------------------+--------------+--------------------+\n",
            "|Lambada - Origina...|             67|          207466|               0.211|0.7559999999999999|                 0.8|                 723|  5|                  47|              -5.158|         1|        329|             118.921|             4|                 967|\n",
            "|  Losing My Religion|             28|          267733|              0.0767|             0.672|                 841|                 0.0|  9|                 135|-5.992.000.000.00...|         0|        285|             125.437|             4|                0.82|\n",
            "|Love The Way You Lie|             20|          158146|               0.188|0.4370000000000001|                 878|                 0.0| 10|35.100.000.000.00...|              -3.876|         1|        396|7.947.399.999.999...|             4|                 621|\n",
            "|Shake, Rattle And...|             59|          150466|               0.159|0.6709999999999999|                 679|                 0.0|  5|                 158|             -11.237|         1|        142|             166.726|             4|                0.82|\n",
            "|This Old Heart Of...|             19|          164960|               0.236|              0.63|                 644|                 0.0|  5|                 265|-63.210.000.000.0...|         1|         29|             131.593|             4|                 926|\n",
            "|    Careless Whisper|             68|          302600|               0.232|             0.583|                 545|                 0.0|  2|                 133|             -11.698|         0|        351|              153.25|             4|                 0.8|\n",
            "|        Walk Of Life|             38|          249960|               0.405|             0.461|                 918|                  33|  4|                 126|              -8.507|         1|        959|             172.435|             4|                 802|\n",
            "|         The Morning|             72|          312426|               0.317|             0.652|5.489.999.999.999...|                 0.0|  6|                 104|              -7.555|         0|         39|             120.073|             4|18.600.000.000.00...|\n",
            "|            Balloons|             43|          180666|              0.0826|0.5820000000000001|                 984|                 153|  9|                 713|              -1.962|         0|        529|15.394.299.999.99...|             4|7.709.999.999.999...|\n",
            "|          Echo Beach|             58|          219866|                0.13|              0.54|                 746|            8.73e-06|  7|                 976|              -9.412|         1|         45|             163.809|             4|                 826|\n",
            "|        I Want Candy|             42|          161933|0.002610000000000...|             0.674|                 797|                 358|  7|                 832|              -8.205|         1|        807|             110.062|             4|                 688|\n",
            "|            Teardrop|             70|          330773|              0.0173|             0.615|                 419|4.970.000.000.000...| 11|                 135|                -8.8|         0|        395|              76.997|             4|21.600.000.000.00...|\n",
            "|             Napkins|             63|          215625|               0.431|             0.747|                 444|            1.25e-06|  0|                 106|              -8.976|         0|        386|             144.138|             4|                0.66|\n",
            "|               Erase|             63|          236794|               0.688|             0.657|                 376|            2.54e-05|  9|                 272|              -6.534|         1|        463|              84.905|             4|                 575|\n",
            "|            Medicine|             28|          223259|               0.206|             0.611|                 412|                 0.0|  8|                 0.1|              -7.445|         0|        202|             116.078|             4|                 116|\n",
            "|          Wide World|             19|          213540|               0.899|             0.547|                 693|                 121| 11|                 705|               -7.18|         0|        286|             168.093|             4|                 634|\n",
            "|    Reminder - Remix|             65|          221968|               0.149|             0.745|                0.65|                 0.0|  0|                 107|-5.992.000.000.00...|         0|        227|             159.994|             4|                 521|\n",
            "|I Get The Bag (fe...|             12|          233087|              0.0232|              0.89|                 633|                 343| 11|                 993|              -5.475|         1|        168|13.994.799.999.99...|             4|                 425|\n",
            "|    Sweet Soul Music|             60|          141066|               0.104|              0.59|                 659|            6.56e-06|  5|35.600.000.000.00...|              -9.669|         1|        697|8.020.100.000.000...|             4|                 965|\n",
            "|             Envidia|             37|          189000|  0.8059999999999999|             0.618|                 261|            2.62e-05| 10|                  92|              -12.86|         1|        358|              83.676|             4|                 552|\n",
            "+--------------------+---------------+----------------+--------------------+------------------+--------------------+--------------------+---+--------------------+--------------------+----------+-----------+--------------------+--------------+--------------------+\n",
            "only showing top 20 rows\n",
            "\n"
          ]
        }
      ]
    },
    {
      "cell_type": "code",
      "source": [
        "df.summary().show()"
      ],
      "metadata": {
        "colab": {
          "base_uri": "https://localhost:8080/"
        },
        "id": "si4H2LQFHRE3",
        "outputId": "d67db1e4-be10-420a-c82f-dddfee83b21b"
      },
      "execution_count": null,
      "outputs": [
        {
          "output_type": "stream",
          "name": "stdout",
          "text": [
            "+-------+--------------------+-----------------+--------------------+-------------------+-------------------+-----------------+------------------+------------------+------------------+------------------+-------------------+-----------------+------------------+--------------------+------------------+\n",
            "|summary|           song_name|  song_popularity|    song_duration_ms|       acousticness|       danceability|           energy|  instrumentalness|               key|          liveness|          loudness|         audio_mode|      speechiness|             tempo|      time_signature|     audio_valence|\n",
            "+-------+--------------------+-----------------+--------------------+-------------------+-------------------+-----------------+------------------+------------------+------------------+------------------+-------------------+-----------------+------------------+--------------------+------------------+\n",
            "|  count|               14919|            14919|               14919|              14919|              14919|            14919|             14919|             14919|             14919|             14919|              14919|            14919|             14919|               14919|             14919|\n",
            "|   mean|  1129.1927027027027| 48.7512567866479|-1.24174825743414...|0.27044259056773223|  0.624590448421475|561.9838363399966|164.09098902340065|  5.30129365238957| 356.6124424778766|-8.231368272620427| 0.6319458408740533|380.7617187500003|120.50783249482127|   187684.0922313828| 471.4317534289276|\n",
            "| stddev|   860.3999787393735|20.38112511670065|1.516980476966639...| 0.2980724152992293|0.15804563530018156|291.8081480755781|275.64426920379583|3.5926692151644497|304.90538492828324|23.178338792607118|0.48229232455834165|222.2896010802382|28.053230619784056|2.2923882500371996E7|283.48318917173555|\n",
            "|    min|\"40\" - Live Versi...|                0|     -18528908788662|             0.0001|                0.0|             0.04|               0.0|                 0|              0.04|             -0.79|                  0|              0.0|               0.0|                   0|               0.0|\n",
            "|    25%|               123.0|             37.0|            183931.0|             0.0236|              0.524|            391.0|               0.0|               2.0|             116.0|            -9.741|                0.0|            251.0|            99.603|                 4.0|             261.0|\n",
            "|    50%|              1412.0|             52.0|            211840.0|              0.139|              0.636|            607.0|           1.14E-5|               5.0|             225.0|            -6.879|                1.0|            356.0|           119.959|                 4.0|             469.0|\n",
            "|    75%|              1975.0|             64.0|            244720.0|              0.458|               0.74|            799.0|             223.0|               8.0|             612.0|            -4.896|                1.0|            499.0|           137.071|                 4.0|             695.0|\n",
            "|    max|          피 땀 눈물|               99|               99775|           9.85e-05|              0.987|              999|               999|                 9|               999|               878|                  1|              998|            99.999|                   5|               997|\n",
            "+-------+--------------------+-----------------+--------------------+-------------------+-------------------+-----------------+------------------+------------------+------------------+------------------+-------------------+-----------------+------------------+--------------------+------------------+\n",
            "\n"
          ]
        }
      ]
    },
    {
      "cell_type": "code",
      "source": [
        "df.sort(F.col('song_popularity').desc()).show(truncate=False)"
      ],
      "metadata": {
        "colab": {
          "base_uri": "https://localhost:8080/"
        },
        "id": "JqPIzDMfsoeX",
        "outputId": "d23b5e4f-b412-4484-d668-11b7a90febb3"
      },
      "execution_count": null,
      "outputs": [
        {
          "output_type": "stream",
          "name": "stdout",
          "text": [
            "+----------------------------------------------+---------------+----------------+-------------------+------------------+---------------------+----------------+---+---------------------+-----------------------+----------+-----------+----------------------+--------------+----------------------+\n",
            "|song_name                                     |song_popularity|song_duration_ms|acousticness       |danceability      |energy               |instrumentalness|key|liveness             |loudness               |audio_mode|speechiness|tempo                 |time_signature|audio_valence         |\n",
            "+----------------------------------------------+---------------+----------------+-------------------+------------------+---------------------+----------------+---+---------------------+-----------------------+----------+-----------+----------------------+--------------+----------------------+\n",
            "|I Love It (& Lil Pump)                        |99             |127946          |0.0114             |0.901             |522                  |0.0             |2  |259                  |-8.304                 |1         |0.33       |104.053               |4             |329                   |\n",
            "|Promises (with Sam Smith)                     |98             |213309          |0.0119             |0.7809999999999999|768                  |4.91e-06        |11 |325                  |-59.910.000.000.000.000|1         |394        |123.07                |4             |486                   |\n",
            "|Taki Taki (with Selena Gomez, Ozuna & Cardi B)|98             |212500          |0.153              |0.841             |7.979.999.999.999.990|3.33e-06        |1  |618                  |-4.206                 |0         |229        |95.948                |4             |591                   |\n",
            "|In My Feelings                                |98             |217925          |0.0589             |0.835             |626                  |6,00E-05        |1  |396                  |-5.832.999.999.999.990 |1         |125        |91.03                 |4             |0.35                  |\n",
            "|Eastside (with Halsey & Khalid)               |98             |173799          |0.555              |0.56              |0.68                 |0.0             |6  |116                  |-7.648                 |0         |321        |89.391                |4             |319                   |\n",
            "|SICKO MODE                                    |97             |312820          |0.00513            |0.8340000000000001|0.73                 |0.0             |8  |124                  |-3.714                 |1         |222        |15.500.799.999.999.900|4             |446                   |\n",
            "|Lucid Dreams                                  |97             |239835          |0.349              |0.511             |5.660.000.000.000.000|0.0             |6  |0.34                 |-7.23                  |0         |0.2        |8.390.299.999.999.990 |4             |218                   |\n",
            "|Falling Down                                  |97             |196400          |0.0175             |0.669             |574                  |294             |4  |146                  |-6.442                 |0         |286        |120.013               |4             |273                   |\n",
            "|In My Mind                                    |97             |184560          |0.17600000000000002|0.6940000000000001|0.77                 |1.1e-05         |6  |118                  |-5.335                 |1         |149        |125.905               |4             |163                   |\n",
            "|Be Alright                                    |96             |196373          |0.6970000000000001 |0.5529999999999999|586                  |0.0             |11 |813                  |-6.319                 |1         |362        |126.684               |4             |443                   |\n",
            "|Lucky You (feat. Joyner Lucas)                |96             |244679          |0.0627             |0.8759999999999999|7.859.999.999.999.990|0.0             |10 |127                  |-4.884                 |0         |306        |15.306.799.999.999.900|4             |575                   |\n",
            "|FEFE (feat. Nicki Minaj & Murda Beatz)        |96             |179404          |0.08800000000000001|0.931             |387                  |0.0             |1  |136                  |-9.127                 |1         |412        |125.978               |4             |376                   |\n",
            "|Moonlight                                     |96             |135090          |0.556              |0.921             |537                  |404             |9  |102                  |-5.723                 |0         |804        |128.009               |4             |711                   |\n",
            "|SAD!                                          |96             |166605          |0.258              |0.74              |613                  |372             |8  |123                  |-4.88                  |1         |145        |75.023                |4             |473                   |\n",
            "|Better Now                                    |95             |231266          |0.354              |0.68              |563                  |0.0             |10 |136                  |-5.843                 |1         |454        |145.028               |4             |374                   |\n",
            "|I Like It                                     |95             |253390          |0.099              |0.816             |726                  |0.0             |5  |3.720.000.000.000.000|-3.998                 |0         |129        |136.048               |4             |0.65                  |\n",
            "|Better                                        |95             |229412          |0.0984             |0.442             |585                  |391             |0  |0.14                 |-10.332                |0         |964        |97.565                |4             |116                   |\n",
            "|BEBE                                          |95             |217822          |0.172              |0.635             |902                  |0.0             |0  |125                  |-3.559                 |1         |109        |102.063               |4             |28.600.000.000.000.000|\n",
            "|Natural                                       |95             |189466          |0.21600000000000005|0.448             |612                  |0.0             |2  |0.08                 |-6.106                 |1         |708        |97.773                |4             |213                   |\n",
            "|Taste (feat. Offset)                          |95             |232959          |0.0236             |0.884             |5.589.999.999.999.990|0.0             |0  |101                  |-7.442                 |1         |0.12       |97.994                |4             |342                   |\n",
            "+----------------------------------------------+---------------+----------------+-------------------+------------------+---------------------+----------------+---+---------------------+-----------------------+----------+-----------+----------------------+--------------+----------------------+\n",
            "only showing top 20 rows\n",
            "\n"
          ]
        }
      ]
    },
    {
      "cell_type": "code",
      "source": [
        "df.sort(F.col('danceability').desc()).show(truncate=False)"
      ],
      "metadata": {
        "colab": {
          "base_uri": "https://localhost:8080/"
        },
        "id": "trALEsF7yTl4",
        "outputId": "c41c47ca-999e-4b8b-c57f-a8bb7245dcef"
      },
      "execution_count": null,
      "outputs": [
        {
          "output_type": "stream",
          "name": "stdout",
          "text": [
            "+---------------------------------+---------------+----------------+--------------------+------------+----------------------+----------------+---+--------+-----------------------+----------+----------------------+-------+--------------+---------------------+\n",
            "|song_name                        |song_popularity|song_duration_ms|acousticness        |danceability|energy                |instrumentalness|key|liveness|loudness               |audio_mode|speechiness           |tempo  |time_signature|audio_valence        |\n",
            "+---------------------------------+---------------+----------------+--------------------+------------+----------------------+----------------+---+--------+-----------------------+----------+----------------------+-------+--------------+---------------------+\n",
            "|Walk Away                        |36             |278653          |0.00317             |0.987       |358                   |464             |9  |943     |-8.677.999.999.999.990 |0         |8.800.000.000.000.000 |117.978|4             |5.529.999.999.999.990|\n",
            "|HOLLYWOOD                        |52             |213311          |0.05                |0.981       |504                   |0.0             |6  |128     |-8.133                 |1         |856                   |125.99 |4             |8.109.999.999.999.990|\n",
            "|Ice Ice Baby                     |66             |271466          |0.027000000000000003|0.98        |535                   |1.68e-06        |2  |104     |-16.035                |1         |58                    |115.744|4             |675                  |\n",
            "|Ice Ice Baby                     |71             |254466          |0.0023              |0.978       |787                   |4.6e-06         |2  |102     |-2.79                  |1         |394                   |116.006|4             |597                  |\n",
            "|Funky Friday                     |81             |182741          |0.0783              |0.975       |535                   |0.0             |1  |107     |-7.227                 |1         |196                   |125.066|4             |6.709.999.999.999.990|\n",
            "|Make Love                        |56             |300160          |0.00528             |0.972       |563                   |257             |11 |111     |-6.983                 |1         |156                   |129.984|4             |217                  |\n",
            "|Gronlandic Edit                  |61             |204760          |0.0833              |0.971       |0.4                   |661             |4  |108     |-7.154                 |0         |487                   |119.953|4             |652                  |\n",
            "|We Outta Here! (feat. Young Nudy)|0              |232320          |0.00715             |0.97        |306                   |108             |1  |117     |-5.732                 |1         |325                   |125.011|4             |208                  |\n",
            "|Drip (feat. Migos)               |52             |262308          |0.0535              |0.969       |0.59                  |0.0             |11 |776     |-7.826                 |1         |251                   |129.997|4             |282                  |\n",
            "|Now (feat. 21 Savage)            |69             |206773          |0.000209            |0.968       |353                   |2.48e-06        |6  |94      |-74.220.000.000.000.000|1         |331                   |130.016|4             |971                  |\n",
            "|SexyBack                         |77             |242733          |0.0584              |0.967       |583                   |0.0             |7  |519     |-5.562                 |0         |789                   |117.0  |4             |964                  |\n",
            "|Pelo Suelto                      |61             |206600          |0.129               |0.967       |7.020.000.000.000.000 |108             |2  |199     |-5.851                 |1         |845                   |123.927|4             |633                  |\n",
            "|Self Destruction                 |56             |158746          |0.0945              |0.967       |578                   |0.0             |8  |786     |-6.474                 |1         |993                   |120.041|4             |774                  |\n",
            "|Elastic                          |48             |126385          |0.0604              |0.966       |435                   |0.22            |1  |511     |-4.944                 |1         |674                   |111.16 |4             |561                  |\n",
            "|Drogba (Joanna)                  |65             |199000          |0.0206              |0.966       |633                   |4.06e-06        |2  |715     |-6.392                 |1         |101                   |108.011|4             |767                  |\n",
            "|Black Belt                       |41             |258826          |0.0227              |0.965       |393                   |531             |5  |353     |-9.904                 |0         |835                   |120.011|4             |604                  |\n",
            "|Pelo Suelto                      |48             |207400          |0.122               |0.965       |583                   |707             |2  |122     |-9.741                 |1         |751                   |123.961|4             |672                  |\n",
            "|Bad Liar                         |78             |214647          |0.189               |0.965       |414                   |0.0             |1  |767     |-6.408                 |1         |713                   |121.032|4             |728                  |\n",
            "|Hot In Herre                     |73             |228226          |0.218               |0.965       |736                   |0.0             |9  |595     |-5.005                 |0         |14.400.000.000.000.000|107.07 |4             |921                  |\n",
            "|Yes Indeed                       |42             |142273          |0.035               |0.964       |34.600.000.000.000.000|0.0             |5  |108     |-9.309                 |0         |0.53                  |119.958|4             |562                  |\n",
            "+---------------------------------+---------------+----------------+--------------------+------------+----------------------+----------------+---+--------+-----------------------+----------+----------------------+-------+--------------+---------------------+\n",
            "only showing top 20 rows\n",
            "\n"
          ]
        }
      ]
    },
    {
      "cell_type": "code",
      "source": [
        "df.sort(F.col('energy').desc()).show(truncate=False)"
      ],
      "metadata": {
        "colab": {
          "base_uri": "https://localhost:8080/"
        },
        "id": "lmTKEZkiwlM1",
        "outputId": "1ebd1b89-275f-4c24-b520-a155da3d6918"
      },
      "execution_count": null,
      "outputs": [
        {
          "output_type": "stream",
          "name": "stdout",
          "text": [
            "+------------------------------+---------------+----------------+---------------------+-------------------+------+---------------------+---+----------------------+-----------------------+----------+-----------+----------------------+--------------+----------------------+\n",
            "|song_name                     |song_popularity|song_duration_ms|acousticness         |danceability       |energy|instrumentalness     |key|liveness              |loudness               |audio_mode|speechiness|tempo                 |time_signature|audio_valence         |\n",
            "+------------------------------+---------------+----------------+---------------------+-------------------+------+---------------------+---+----------------------+-----------------------+----------+-----------+----------------------+--------------+----------------------+\n",
            "|Milkshake                     |27             |196074          |0.0207               |0.767              |999   |887                  |6  |0.22                  |-47.810.000.000.000.000|1         |826        |128.007               |4             |212                   |\n",
            "|Killer + The Sound            |58             |475186          |0.982                |0.397              |998   |476                  |0  |0.1                   |-15.431                |1         |371        |127.362               |4             |105                   |\n",
            "|Burnin                        |55             |234773          |0.00205              |0.643              |997   |672                  |11 |659                   |-1.656                 |1         |483        |128.004               |4             |555                   |\n",
            "|Feathers & Lips               |32             |150866          |7.73e-06             |0.319              |997   |5.710.000.000.000.000|5  |335                   |-6.056                 |0         |145        |140.968               |4             |595                   |\n",
            "|Mr. Vain - Original Radio Edit|69             |257466          |0.0726               |0.703              |997   |235                  |9  |123                   |-7.666                 |0         |399        |132.872               |4             |391                   |\n",
            "|Nurv                          |35             |104480          |2.58e-06             |0.298              |996   |6.629.999.999.999.990|10 |34.600.000.000.000.000|-4.393                 |0         |157        |90.934                |4             |982                   |\n",
            "|Fabuless                      |42             |240712          |0.00348              |0.429              |996   |108                  |1  |324                   |-4.338                 |0         |134        |15.833.700.000.000.000|4             |185                   |\n",
            "|Back for More                 |0              |202560          |6.81e-06             |0.452              |996   |1.99e-06             |9  |0.22                  |-2.342                 |1         |114        |152.01                |4             |168                   |\n",
            "|Bassride                      |62             |154013          |0.0158               |0.61               |996   |883                  |0  |682                   |-3.261                 |1         |704        |128.032               |4             |413                   |\n",
            "|Wait And Bleed                |70             |147840          |0.0020800000000000003|0.382              |996   |0.0                  |7  |417                   |-4.119                 |1         |104        |93.345                |4             |327                   |\n",
            "|Otherside                     |66             |190821          |0.0172               |0.542              |996   |777                  |4  |614                   |-3.124                 |1         |623        |125.949               |4             |263                   |\n",
            "|Time-Bomb Ticking Away        |50             |202533          |0.0104               |0.547              |995   |0.0                  |11 |319                   |-2.872                 |0         |991        |100.064               |4             |508                   |\n",
            "|My Own Grave                  |65             |253317          |0.000109             |0.474              |995   |976                  |5  |0.05                  |-4.316                 |0         |279        |125.025               |4             |394                   |\n",
            "|Shake Baby Shake              |23             |155893          |0.00519              |0.633              |995   |503                  |8  |232                   |-4.924                 |1         |992        |128.04                |4             |387                   |\n",
            "|Wake Up (RIOT VIP)            |52             |292915          |0.0251               |0.341              |995   |7.01e-05             |7  |713                   |52.000.000.000.000.000 |1         |626        |160.311               |4             |801                   |\n",
            "|BYB (Bounce & Break Your Back)|39             |195959          |0.0391               |0.733              |995   |174                  |5  |657                   |-2.521                 |1         |225        |159.994               |4             |539                   |\n",
            "|Speechless / Deaf             |35             |208081          |2.09e-05             |0.198              |995   |1.11e-06             |10 |35.700.000.000.000.000|-1.626                 |0         |141        |170.02                |4             |331                   |\n",
            "|The Remedy                    |2              |243913          |3.26e-06             |0.35600000000000004|995   |196                  |4  |403                   |-3.366                 |0         |172        |183.985               |4             |16.699.999.999.999.900|\n",
            "|Surface                       |31             |213600          |0.000401             |0.499              |995   |0.0                  |4  |429                   |-3.536                 |1         |227        |14.227.100.000.000.000|4             |236                   |\n",
            "|Inner Vision                  |46             |114240          |9.58e-06             |0.246              |994   |153                  |6  |141                   |-3.755                 |1         |139        |143.688               |3             |6.409.999.999.999.990 |\n",
            "+------------------------------+---------------+----------------+---------------------+-------------------+------+---------------------+---+----------------------+-----------------------+----------+-----------+----------------------+--------------+----------------------+\n",
            "only showing top 20 rows\n",
            "\n"
          ]
        }
      ]
    },
    {
      "cell_type": "code",
      "source": [
        "df.sort(F.col('tempo').desc()).show(truncate=False)"
      ],
      "metadata": {
        "colab": {
          "base_uri": "https://localhost:8080/"
        },
        "id": "dGGYLV9by03D",
        "outputId": "5674f563-69ec-4425-a7fc-6260750a3a4c"
      },
      "execution_count": null,
      "outputs": [
        {
          "output_type": "stream",
          "name": "stdout",
          "text": [
            "+-------------------------------------+---------------+----------------+-------------------+------------------+---------------------+---------------------+---+--------+-----------------------+----------+-----------+------+--------------+---------------------+\n",
            "|song_name                            |song_popularity|song_duration_ms|acousticness       |danceability      |energy               |instrumentalness     |key|liveness|loudness               |audio_mode|speechiness|tempo |time_signature|audio_valence        |\n",
            "+-------------------------------------+---------------+----------------+-------------------+------------------+---------------------+---------------------+---+--------+-----------------------+----------+-----------+------+--------------+---------------------+\n",
            "|Paris                                |79             |221520          |0.0243             |0.6459999999999999|644                  |0.0                  |2  |888     |-6.763                 |1         |31         |99.999|4             |251                  |\n",
            "|Through The Summer Fields            |50             |328193          |0.963              |0.594             |331                  |931                  |5  |866     |-23.656                |0         |331        |99.998|4             |602                  |\n",
            "|Takes Some Time                      |57             |129579          |0.404              |0.634             |5.479.999.999.999.990|377                  |8  |742     |-8.672                 |0         |236        |99.998|4             |691                  |\n",
            "|Yalli Naseeni                        |42             |226587          |0.0796             |0.797             |608                  |0.0                  |4  |881     |-14.27                 |0         |717        |99.998|4             |632                  |\n",
            "|I Forgot You                         |42             |184642          |0.00235            |0.614             |0.88                 |16                   |1  |479     |-5.408                 |1         |419        |99.997|4             |565                  |\n",
            "|To My Love - Tainy Remix             |80             |251773          |0.129              |0.764             |0.59                 |847                  |7  |851     |-4.292                 |1         |395        |99.996|4             |281                  |\n",
            "|Summer on You                        |77             |205791          |0.636              |0.8109999999999999|447                  |0.0                  |4  |462     |-6.55                  |1         |414        |99.995|4             |6.940.000.000.000.000|\n",
            "|Childs Play (feat. Chance the Rapper)|67             |216234          |0.775              |0.759             |342                  |0.0                  |1  |112     |-9.044                 |0         |406        |99.995|4             |0.22                 |\n",
            "|Zaim                                 |59             |236136          |0.000195           |0.77              |0.7                  |0.91                 |5  |494     |-10.929                |0         |499        |99.995|4             |445                  |\n",
            "|Be Real                              |65             |226222          |0.653              |0.7859999999999999|581                  |144                  |2  |693     |-9.401                 |1         |773        |99.995|4             |687                  |\n",
            "|Saturday Sun                         |60             |214720          |0.484              |0.637             |8.640.000.000.000.000|0.0                  |8  |222     |-4.381                 |1         |468        |99.995|4             |706                  |\n",
            "|PLACES                               |55             |214826          |0.495              |0.772             |4.270.000.000.000.000|7.240.000.000.000.000|4  |108     |-9.576                 |0         |437        |99.995|4             |368                  |\n",
            "|Saturday Sun                         |75             |214720          |0.484              |0.637             |8.640.000.000.000.000|0.0                  |8  |222     |-4.381                 |1         |468        |99.995|4             |706                  |\n",
            "|Lost (feat. Chelsea Jade)            |60             |241040          |0.0533             |0.672             |647                  |932                  |1  |122     |-62.639.999.999.999.900|1         |314        |99.994|4             |237                  |\n",
            "|DAY OFF                              |32             |212000          |0.7609999999999999 |0.705             |727                  |0.0                  |2  |769     |-5.341                 |1         |0.11       |99.994|4             |608                  |\n",
            "|No Vacancy                           |72             |223189          |0.0556             |0.72              |727                  |0.0                  |5  |138     |-3.882                 |1         |489        |99.994|4             |481                  |\n",
            "|Red Light (Prod. Newmaze)            |34             |235200          |0.644              |0.7240000000000001|502                  |0.0                  |3  |106     |-7.85                  |0         |196        |99.993|4             |358                  |\n",
            "|Jump with Me                         |47             |197165          |0.00179            |0.547             |698                  |428                  |0  |127     |-7.369                 |1         |301        |99.993|4             |226                  |\n",
            "|Miracle                              |26             |207293          |0.0356             |0.655             |919                  |4.78e-06             |8  |873     |-4.8                   |1         |666        |99.991|4             |887                  |\n",
            "|Me & U                               |72             |192213          |0.35200000000000004|0.8029999999999999|454                  |0.0                  |8  |655     |-4.802                 |0         |294        |99.99 |4             |7.390.000.000.000.000|\n",
            "+-------------------------------------+---------------+----------------+-------------------+------------------+---------------------+---------------------+---+--------+-----------------------+----------+-----------+------+--------------+---------------------+\n",
            "only showing top 20 rows\n",
            "\n"
          ]
        }
      ]
    },
    {
      "cell_type": "code",
      "source": [
        "df.sort(F.col('instrumentalness').desc()).show(truncate=False)"
      ],
      "metadata": {
        "colab": {
          "base_uri": "https://localhost:8080/"
        },
        "id": "NFIT8d7BzFDU",
        "outputId": "55f76963-5d36-40b8-b0f8-0e21f4f5e931"
      },
      "execution_count": null,
      "outputs": [
        {
          "output_type": "stream",
          "name": "stdout",
          "text": [
            "+------------------------------------+---------------+----------------+------------+------------------+---------------------+----------------+---+--------+-----------------------+----------+-----------+---------------------+--------------+-------------+\n",
            "|song_name                           |song_popularity|song_duration_ms|acousticness|danceability      |energy               |instrumentalness|key|liveness|loudness               |audio_mode|speechiness|tempo                |time_signature|audio_valence|\n",
            "+------------------------------------+---------------+----------------+------------+------------------+---------------------+----------------+---+--------+-----------------------+----------+-----------+---------------------+--------------+-------------+\n",
            "|Veranito de San Juan                |37             |273800          |0.454       |0.565             |7.829.999.999.999.990|999             |4  |726     |-7.356                 |1         |119        |75.99                |4             |467          |\n",
            "|Creiste                             |51             |257463          |0.636       |0.845             |774                  |998             |0  |953     |-3.688                 |1         |465        |138.067              |4             |867          |\n",
            "|The Greatest                        |64             |202560          |0.738       |0.508             |362                  |998             |0  |922     |-9.688                 |1         |262        |107.459              |4             |328          |\n",
            "|By A Thread                         |38             |276000          |0.00602     |0.391             |925                  |998             |9  |585     |-5.152                 |0         |365        |173.99               |4             |138          |\n",
            "|savepoint                           |53             |67384           |0.964       |0.226             |237                  |997             |10 |227     |-23.185                |0         |41         |114.52               |4             |795          |\n",
            "|Pelos                               |23             |150725          |0.159       |0.919             |569                  |997             |6  |564     |-46.080.000.000.000.000|0         |106        |115.009              |4             |818          |\n",
            "|Revista De Gimnasia                 |45             |230280          |0.000596    |0.706             |759                  |996             |1  |335     |-5.872.999.999.999.990 |0         |329        |112.014              |4             |792          |\n",
            "|Don't Stop (Color on the Walls)     |2              |174920          |0.00183     |0.611             |948                  |995             |1  |969     |-3.751                 |0         |753        |133.004              |4             |0.79         |\n",
            "|I Like Me Better - TRU Concept Remix|9              |189334          |0.0787      |0.7340000000000001|698                  |994             |6  |675     |-6.299                 |0         |274        |120.028              |4             |634          |\n",
            "|Heaven Wasn't Made For Me           |59             |173529          |0.327       |0.672             |498                  |994             |11 |163     |-10.059                |0         |355        |143.196              |4             |213          |\n",
            "|Uno Más                             |36             |227999          |0.339       |0.882             |7.290.000.000.000.000|994             |4  |301     |-50.939.999.999.999.900|0         |0.23       |100.006              |4             |477          |\n",
            "|A Lo Lejos Me Veran                 |77             |148561          |0.0285      |0.6940000000000001|414                  |992             |7  |535     |-12.117                |0         |401        |125.069              |3             |941          |\n",
            "|Ghosts                              |42             |232361          |0.624       |0.632             |574                  |992             |7  |133     |-13.135                |1         |354        |88.029               |4             |669          |\n",
            "|Devil On My Shoulder                |56             |229533          |0.00193     |0.588             |892                  |991             |2  |0.32    |-4.322                 |1         |337        |95.905               |4             |565          |\n",
            "|You Broke                           |33             |202971          |0.315       |0.7609999999999999|0.61                 |991             |6  |123     |-9.193                 |0         |498        |110.66               |5             |0.47         |\n",
            "|Pretty in Pink                      |53             |238106          |0.105       |0.386             |916                  |991             |2  |325     |-5.955                 |1         |741        |135.642              |4             |775          |\n",
            "|New Religion                        |37             |184000          |0.00157     |0.5710000000000001|405                  |991             |1  |911     |-8.907                 |1         |25         |7.297.399.999.999.990|4             |398          |\n",
            "|La Llamada                          |57             |223318          |0.0545      |0.64              |583                  |99              |2  |159     |-7.432                 |1         |248        |96.985               |4             |776          |\n",
            "|Tiger Striped Sky                   |23             |241720          |0.947       |0.482             |183                  |99              |2  |108     |-15.931                |1         |364        |139.863              |4             |0.16         |\n",
            "|Nightmare (Remastered)              |48             |224287          |0.907       |0.589             |321                  |99              |1  |0.09    |-11.451                |0         |355        |125.06               |4             |608          |\n",
            "+------------------------------------+---------------+----------------+------------+------------------+---------------------+----------------+---+--------+-----------------------+----------+-----------+---------------------+--------------+-------------+\n",
            "only showing top 20 rows\n",
            "\n"
          ]
        }
      ]
    },
    {
      "cell_type": "markdown",
      "source": [
        "##Conclusão final"
      ],
      "metadata": {
        "id": "_NNycLT22FrL"
      }
    },
    {
      "cell_type": "markdown",
      "source": [
        "####AS MÚSICAS POPULARES SÃO AS MAIS DANÇANTES? Não\n",
        "####AS MÚSICAS POPULARES SÃO AS COM MAIOR ENERGIA? Não\n",
        "####AS MÚSICAS MAIS POPULARES POSSUEM MAIOR TEMPO? Não\n",
        "####AS MÚSICAS COM INSTRUMENTALIDADE SÃO AS MAIS POPULARES? Não"
      ],
      "metadata": {
        "id": "uxEHG3Xd2PIc"
      }
    }
  ]
}